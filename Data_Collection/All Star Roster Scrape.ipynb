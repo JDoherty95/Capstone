{
 "cells": [
  {
   "cell_type": "markdown",
   "metadata": {},
   "source": [
    "## Data Scrape - All-Star Rosters"
   ]
  },
  {
   "cell_type": "markdown",
   "metadata": {},
   "source": [
    "This notebook will be used to collect data on the NBA all-star rosters since 2008. This information will be used to generate my target variable."
   ]
  },
  {
   "cell_type": "markdown",
   "metadata": {},
   "source": [
    "### Contents\n",
    "\n",
    "- [Imports](#Imports)\n",
    "- [Test Scrape](#Test-Scrape)\n",
    "- [Complete Scrape](#Complete-Scrape)\n"
   ]
  },
  {
   "cell_type": "markdown",
   "metadata": {},
   "source": [
    "### Imports"
   ]
  },
  {
   "cell_type": "code",
   "execution_count": 1,
   "metadata": {},
   "outputs": [],
   "source": [
    "# Import libraries\n",
    "import pandas as pd\n",
    "import requests\n",
    "from bs4 import BeautifulSoup\n",
    "import time"
   ]
  },
  {
   "cell_type": "markdown",
   "metadata": {},
   "source": [
    "### Test Scrape"
   ]
  },
  {
   "cell_type": "code",
   "execution_count": 2,
   "metadata": {},
   "outputs": [],
   "source": [
    "#Testing scrape on the 2018 NBA All-Star game\n",
    "url = 'https://www.basketball-reference.com/allstar/NBA_2018.html'\n",
    "rec = requests.get(url)"
   ]
  },
  {
   "cell_type": "code",
   "execution_count": 3,
   "metadata": {},
   "outputs": [
    {
     "data": {
      "text/plain": [
       "200"
      ]
     },
     "execution_count": 3,
     "metadata": {},
     "output_type": "execute_result"
    }
   ],
   "source": [
    "rec.status_code"
   ]
  },
  {
   "cell_type": "code",
   "execution_count": 4,
   "metadata": {},
   "outputs": [],
   "source": [
    "soup = BeautifulSoup(rec.content, 'lxml')"
   ]
  },
  {
   "cell_type": "code",
   "execution_count": 5,
   "metadata": {},
   "outputs": [],
   "source": [
    "#table for first team\n",
    "table = soup.find_all('table')[1]"
   ]
  },
  {
   "cell_type": "code",
   "execution_count": 6,
   "metadata": {},
   "outputs": [
    {
     "data": {
      "text/plain": [
       "'LeBron James'"
      ]
     },
     "execution_count": 6,
     "metadata": {},
     "output_type": "execute_result"
    }
   ],
   "source": [
    "table.find('tbody').find_all('tr')[0].find('th').text"
   ]
  },
  {
   "cell_type": "code",
   "execution_count": 7,
   "metadata": {},
   "outputs": [
    {
     "data": {
      "text/plain": [
       "['LeBron James',\n",
       " 'Kevin Durant',\n",
       " 'Russell Westbrook',\n",
       " 'Kyrie Irving',\n",
       " 'Anthony Davis',\n",
       " '',\n",
       " 'Paul George',\n",
       " 'Andre Drummond',\n",
       " 'Bradley Beal',\n",
       " 'Victor Oladipo',\n",
       " 'Kemba Walker',\n",
       " 'Goran Dragić',\n",
       " 'LaMarcus Aldridge']"
      ]
     },
     "execution_count": 7,
     "metadata": {},
     "output_type": "execute_result"
    }
   ],
   "source": [
    "#looping through first table on site to get players from the first team\n",
    "[tr.find('th').text for tr in table.find('tbody').find_all('tr') if tr.find('th').text != ('Reserves')]"
   ]
  },
  {
   "cell_type": "code",
   "execution_count": 8,
   "metadata": {},
   "outputs": [],
   "source": [
    "#table for second team\n",
    "table_2 = soup.find_all('table')[2]"
   ]
  },
  {
   "cell_type": "code",
   "execution_count": 9,
   "metadata": {},
   "outputs": [
    {
     "data": {
      "text/plain": [
       "'James Harden'"
      ]
     },
     "execution_count": 9,
     "metadata": {},
     "output_type": "execute_result"
    }
   ],
   "source": [
    "table_2.find('tbody').find_all('tr')[0].find('th').text"
   ]
  },
  {
   "cell_type": "code",
   "execution_count": 10,
   "metadata": {},
   "outputs": [
    {
     "data": {
      "text/plain": [
       "['James Harden',\n",
       " 'DeMar DeRozan',\n",
       " 'Stephen Curry',\n",
       " 'Giannis Antetokounmpo',\n",
       " 'Joel Embiid',\n",
       " '',\n",
       " 'Kyle Lowry',\n",
       " 'Klay Thompson',\n",
       " 'Damian Lillard',\n",
       " 'Draymond Green',\n",
       " 'Karl-Anthony Towns',\n",
       " 'Al Horford']"
      ]
     },
     "execution_count": 10,
     "metadata": {},
     "output_type": "execute_result"
    }
   ],
   "source": [
    "#looping through to get players from the second team\n",
    "[tr.find('th').text for tr in table_2.find('tbody').find_all('tr') if tr.find('th').text != 'Reserves']"
   ]
  },
  {
   "cell_type": "markdown",
   "metadata": {},
   "source": [
    "### Complete Scrape"
   ]
  },
  {
   "cell_type": "code",
   "execution_count": 11,
   "metadata": {},
   "outputs": [
    {
     "name": "stdout",
     "output_type": "stream",
     "text": [
      "Scraping the 2006 All-Star game\n",
      "Scraping the 2007 All-Star game\n",
      "Scraping the 2008 All-Star game\n",
      "Scraping the 2009 All-Star game\n",
      "Scraping the 2010 All-Star game\n",
      "Scraping the 2011 All-Star game\n",
      "Scraping the 2012 All-Star game\n",
      "Scraping the 2013 All-Star game\n",
      "Scraping the 2014 All-Star game\n",
      "Scraping the 2015 All-Star game\n",
      "Scraping the 2016 All-Star game\n",
      "Scraping the 2017 All-Star game\n",
      "Scraping the 2018 All-Star game\n"
     ]
    }
   ],
   "source": [
    "#getting All-Star rosters from 2006-2009\n",
    "player_list = []\n",
    "\n",
    "for i in range(2006, 2019):\n",
    "    print(f'Scraping the {i} All-Star game')\n",
    "    url = f'https://www.basketball-reference.com/allstar/NBA_{i}.html'\n",
    "    rec = requests.get(url)\n",
    "    if rec.status_code == 200:\n",
    "        soup = BeautifulSoup(rec.content, 'lxml')\n",
    "        \n",
    "        #getting players for team 1\n",
    "        table_1 = soup.find_all('table')[1]\n",
    "        team_1 = [tr.find('th').text for tr in table_1.find('tbody').find_all('tr') if tr.find('th').text != ('Reserves')]\n",
    "        player_list.extend(team_1)\n",
    "        \n",
    "        #getting players for team 2\n",
    "        table_2 = soup.find_all('table')[2]\n",
    "        team_2 = [tr.find('th').text for tr in table_2.find('tbody').find_all('tr') if tr.find('th').text != ('Reserves')]\n",
    "        player_list.extend(team_2)\n",
    "        \n",
    "    else: \n",
    "        print('website error')\n",
    "    \n",
    "    time.sleep(1)\n",
    "        \n",
    "    "
   ]
  },
  {
   "cell_type": "code",
   "execution_count": 12,
   "metadata": {},
   "outputs": [],
   "source": [
    "#creating dataframe\n",
    "all_star_df = pd.DataFrame(player_list, columns = ['Name'])"
   ]
  },
  {
   "cell_type": "code",
   "execution_count": 13,
   "metadata": {},
   "outputs": [
    {
     "data": {
      "text/html": [
       "<div>\n",
       "<style scoped>\n",
       "    .dataframe tbody tr th:only-of-type {\n",
       "        vertical-align: middle;\n",
       "    }\n",
       "\n",
       "    .dataframe tbody tr th {\n",
       "        vertical-align: top;\n",
       "    }\n",
       "\n",
       "    .dataframe thead th {\n",
       "        text-align: right;\n",
       "    }\n",
       "</style>\n",
       "<table border=\"1\" class=\"dataframe\">\n",
       "  <thead>\n",
       "    <tr style=\"text-align: right;\">\n",
       "      <th></th>\n",
       "      <th>Name</th>\n",
       "    </tr>\n",
       "  </thead>\n",
       "  <tbody>\n",
       "    <tr>\n",
       "      <th>0</th>\n",
       "      <td>Dwyane Wade</td>\n",
       "    </tr>\n",
       "    <tr>\n",
       "      <th>1</th>\n",
       "      <td>LeBron James</td>\n",
       "    </tr>\n",
       "    <tr>\n",
       "      <th>2</th>\n",
       "      <td>Allen Iverson</td>\n",
       "    </tr>\n",
       "    <tr>\n",
       "      <th>3</th>\n",
       "      <td>Shaquille O'Neal</td>\n",
       "    </tr>\n",
       "    <tr>\n",
       "      <th>4</th>\n",
       "      <td>Vince Carter</td>\n",
       "    </tr>\n",
       "  </tbody>\n",
       "</table>\n",
       "</div>"
      ],
      "text/plain": [
       "               Name\n",
       "0       Dwyane Wade\n",
       "1      LeBron James\n",
       "2     Allen Iverson\n",
       "3  Shaquille O'Neal\n",
       "4      Vince Carter"
      ]
     },
     "execution_count": 13,
     "metadata": {},
     "output_type": "execute_result"
    }
   ],
   "source": [
    "all_star_df.head()"
   ]
  },
  {
   "cell_type": "code",
   "execution_count": 14,
   "metadata": {},
   "outputs": [
    {
     "data": {
      "text/plain": [
       "(337, 1)"
      ]
     },
     "execution_count": 14,
     "metadata": {},
     "output_type": "execute_result"
    }
   ],
   "source": [
    "all_star_df.shape"
   ]
  },
  {
   "cell_type": "code",
   "execution_count": 15,
   "metadata": {},
   "outputs": [],
   "source": [
    "#Dropping duplicates\n",
    "#Many players have made multiple games\n",
    "all_star_df.drop_duplicates(inplace = True)"
   ]
  },
  {
   "cell_type": "code",
   "execution_count": 16,
   "metadata": {},
   "outputs": [
    {
     "data": {
      "text/html": [
       "<div>\n",
       "<style scoped>\n",
       "    .dataframe tbody tr th:only-of-type {\n",
       "        vertical-align: middle;\n",
       "    }\n",
       "\n",
       "    .dataframe tbody tr th {\n",
       "        vertical-align: top;\n",
       "    }\n",
       "\n",
       "    .dataframe thead th {\n",
       "        text-align: right;\n",
       "    }\n",
       "</style>\n",
       "<table border=\"1\" class=\"dataframe\">\n",
       "  <thead>\n",
       "    <tr style=\"text-align: right;\">\n",
       "      <th></th>\n",
       "      <th>Name</th>\n",
       "    </tr>\n",
       "  </thead>\n",
       "  <tbody>\n",
       "    <tr>\n",
       "      <th>5</th>\n",
       "      <td></td>\n",
       "    </tr>\n",
       "    <tr>\n",
       "      <th>114</th>\n",
       "      <td>Al Horford</td>\n",
       "    </tr>\n",
       "    <tr>\n",
       "      <th>2</th>\n",
       "      <td>Allen Iverson</td>\n",
       "    </tr>\n",
       "    <tr>\n",
       "      <th>36</th>\n",
       "      <td>Amar'e Stoudemire</td>\n",
       "    </tr>\n",
       "    <tr>\n",
       "      <th>283</th>\n",
       "      <td>Andre Drummond</td>\n",
       "    </tr>\n",
       "  </tbody>\n",
       "</table>\n",
       "</div>"
      ],
      "text/plain": [
       "                  Name\n",
       "5                     \n",
       "114         Al Horford\n",
       "2        Allen Iverson\n",
       "36   Amar'e Stoudemire\n",
       "283     Andre Drummond"
      ]
     },
     "execution_count": 16,
     "metadata": {},
     "output_type": "execute_result"
    }
   ],
   "source": [
    "#need to remove empty name\n",
    "all_star_df.sort_values(by = 'Name').head()"
   ]
  },
  {
   "cell_type": "code",
   "execution_count": 17,
   "metadata": {},
   "outputs": [],
   "source": [
    "#dropping missing value\n",
    "all_star_df.drop(5, inplace = True)"
   ]
  },
  {
   "cell_type": "code",
   "execution_count": 18,
   "metadata": {},
   "outputs": [],
   "source": [
    "#resetting index\n",
    "all_star_df.reset_index(drop = True, inplace = True)"
   ]
  },
  {
   "cell_type": "code",
   "execution_count": 19,
   "metadata": {},
   "outputs": [],
   "source": [
    "#saving to csv file\n",
    "all_star_df.to_csv('../Data_Files/all_star_rosters.csv')\n"
   ]
  }
 ],
 "metadata": {
  "kernelspec": {
   "display_name": "Python [conda env:dsi] *",
   "language": "python",
   "name": "conda-env-dsi-py"
  },
  "language_info": {
   "codemirror_mode": {
    "name": "ipython",
    "version": 3
   },
   "file_extension": ".py",
   "mimetype": "text/x-python",
   "name": "python",
   "nbconvert_exporter": "python",
   "pygments_lexer": "ipython3",
   "version": "3.7.3"
  }
 },
 "nbformat": 4,
 "nbformat_minor": 2
}
