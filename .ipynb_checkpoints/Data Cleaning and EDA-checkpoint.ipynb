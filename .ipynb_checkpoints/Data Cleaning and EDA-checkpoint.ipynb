{
 "cells": [
  {
   "cell_type": "markdown",
   "metadata": {},
   "source": [
    "# Predicting NBA All-Stars"
   ]
  },
  {
   "cell_type": "markdown",
   "metadata": {},
   "source": [
    "## Problem Statement"
   ]
  },
  {
   "cell_type": "markdown",
   "metadata": {},
   "source": [
    "Despite having more access to data and information than ever before, front offices and scouting departments of professional sports teams still continue to struggle to make the correct draft choices. In professional sports, selecting the right player in the draft is critical to a team's future success. It is one of the best ways to build team depth in a cost efficient manner and it is where the fates of the best amateur athletes are decided. Drafting a player is an inexact science, but having a way to predict future success of a player will make a teams draft decision that much easier and will give them a leg up on the competition. \n",
    "\n",
    "Our goal is to build a model that will predict the likelihood that a draft eligible College Basketball player will become an All-Star in the NBA. The process of becoming an All-Star has changed over the years, but currently the starting lineups for both teams are selected by a weighted combination of fan, player and media voting (50%, 25% and 25% respectively). The reserves are chosen by a vote between the coaches.   In the NBA, having multiple players that are All-Stars on a team has been proven to lead to championships. The 2019 NBA champion Toronto Raptors had 3 former All-Stars on their roster (Kawhi Leonard, Kyle Lowry and Marc Gasol) and the Golden State Warriors, the best team of the decade, had 5 former All-Stars on their roster during their three championship runs (Steph Curry, Klay Thompson, Draymond Green, Kevin Durant and Andre Iguodala). We will look to predict the probability that a draft eligible College Basketball player by analyzing which features of a player lead to the future NBA success."
   ]
  },
  {
   "cell_type": "markdown",
   "metadata": {},
   "source": [
    "## Executive Summary"
   ]
  },
  {
   "cell_type": "markdown",
   "metadata": {},
   "source": [
    "The goal of this project is to predict the probability that at a draft eligible college basketball will become an NBA All-Star at some point in his career. This was accomplished by utilizing data scraping, data cleaning, EDA, Bayesian statistics, preprocessing and classification modeling. The data used for the analysis was pulled from two websites, [Basketball Reference](https://www.sports-reference.com/cbb/play-index/psl_finder.cgi?request=1&match=combined&year_min=2006&year_max=2019&conf_id=&school_id=&class_is_fr=Y&class_is_so=Y&class_is_jr=Y&class_is_sr=Y&pos_is_g=Y&pos_is_gf=Y&pos_is_fg=Y&pos_is_f=Y&pos_is_fc=Y&pos_is_cf=Y&pos_is_c=Y&games_type=A&qual=&c1stat=&c1comp=&c1val=&c2stat=&c2comp=&c2val=&c3stat=&c3comp=&c3val=&c4stat=&c4comp=&c4val=&order_by=pts&order_by_asc=&offset=0) and [Bart Torvik](http://barttorvik.com). The process of pulling/scraping the data from the Basketball Reference website for the NBA draft data, All-Star data and single season data can be seen in the **Data_Collection** folder of the repository. Bart Torvik's data was collected through a JSON file provided by Bart himself. The process of organizing that data can also be seen in the **Data_Collection** folder. \n",
    "\n",
    "We were able to collect data on 55,939 individual college basketball seasons. This value includes every player that has played college basketball since 2008. If an individual played in multiple seasons, then they will have multiple observations listed for each season. International and high school athletes were not included in the analysis since the statistics are not an apples to apples comparison to college basketball. College basketball players also make up more than 83% of the players in the NBA ([RPI Ratings](http://rpiratings.com/NBA.php)). In the data cleaning process, we identified which players were drafted and which made an All-Star game. We also reduced the dataset to only include the final season a player played in college. Including all seasons for a player could affect my target variable since the player will be listed multiple times as having made an All-Star game. The last season someone played in college tends to be their best performing season and is what's looked at most heavily by a team's front office. Ultimately, the dataset included 581 individual college basketball seasons with 30 of the seasons having been All-Star players. The data collected for each player includes many individual statistics for that season as well as information on where the player went to school, conference and even physical measurements. \n",
    "\n",
    "Before building my model, we needed to understand the dataset in greater detail. In order to do this, we performed exploratory data analysis and used Bayesian statistics to adjust certain features. We wanted to see what percentage of players made an All-Star game given a certain feature as well as what percentage of All-Stars had that feature. We also looked at the continuous features (players stats) by separating the data for players that have made an All-Star game and those who have not to see if there were any significant differences between the two. Before eliminating certain features that had overlap in their calculations, we performed Bayesian statistic techniques to adjust several values. For example, **FTM** and **FTA** are used to calculate **FT %**. We adjusted the **FT %** using prior knowledge and a likelihood function before we dropped the **FTM** and **FTA** features. This provided us with a more accurate representation and helped account for players with far fewer attempts than other players. \n",
    "\n",
    "After completing EDA, we began the classification modeling process. We separated the data into a training and test set. The training data included players from 2008-2018 and the test set included college players from the 2019 NBA draft. We began by train/test splitting the training data after selecting features to include in the analysis. Then we began to build several classification models utilizing GridsearchCV to optimize for the best hyperparameters. Below is a list of the classification models used. \n",
    "\n",
    "- Logistic Regression  \n",
    "- KNearest Neighbors \n",
    "- DecisionTree \n",
    "- RandomForest\n",
    "- Adaboost\n",
    "\n",
    "The best model had the highest accuracy and the lowest variance, but also had the most realistic probabilities based off of prior knowledge. This model was then used to predict the All-Star probability on the 2019 test dataset."
   ]
  },
  {
   "cell_type": "markdown",
   "metadata": {},
   "source": [
    "## Contents\n",
    "\n",
    "- [Imports](#Imports)\n",
    "- [Data Cleaning](#Data-Cleaning)\n",
    "    - [Cleaning Draft Pick Data](#Cleaning-Draft-Pick-Data)\n",
    "    - [Cleaning Single Season Data](#Cleaning-Single-Season-Data)\n",
    "        - [Updating Player Names](#Updating-Player-Names)\n",
    "        - [Indentifying All-Stars](#Identifying-All-Stars)\n",
    "        - [Keeping Last Year Played in College](#Keeping-Last-Year-Played-in-College)\n",
    "        - [Null Values](#Null-Values)\n",
    "        - [Adjusting Height Column](#Adjusting-Height-Column) \n",
    "        - [Updating Conference Column](#Updating-Conference-Column)\n",
    "        - [Creating Total Points and PPG Column](#Creating-Total-Points-and-PPG-Column)\n",
    "        - [Creating Position Column](#Creating-Position-Column)\n",
    "        - [Adjusting Yr Column](#Adjusting-Yr-Column)\n",
    "- [EDA](#EDA)\n",
    "    - [Descriptive Statistics & Visualizations](#Descriptive-Statistics-&-Visualizations)\n",
    "    - [Creating Dummy Columns](#Creating-Dummy-Columns)\n",
    "    - [More EDA After Modeling](#More-EDA-After-Modeling)\n",
    "    \n",
    "\n",
    "    \n"
   ]
  },
  {
   "cell_type": "markdown",
   "metadata": {},
   "source": [
    "## Imports"
   ]
  },
  {
   "cell_type": "code",
   "execution_count": 1,
   "metadata": {},
   "outputs": [],
   "source": [
    "#import libraries\n",
    "import numpy             as np\n",
    "import pandas            as pd\n",
    "import matplotlib.pyplot as plt\n",
    "import seaborn           as sns\n",
    "import scipy.stats       as stats\n",
    "\n",
    "import warnings\n",
    "warnings.filterwarnings(\"ignore\")\n",
    "\n",
    "sns.set_style(\"whitegrid\")\n",
    "\n",
    "\n",
    "\n",
    "#adjusting display to see more data for convenience\n",
    "pd.set_option('display.max_rows', 600)\n",
    "pd.set_option('display.max_columns', 100)\n",
    "pd.set_option('display.width', 500)\n",
    "%config InlineBackend.figure_format = 'retina'\n",
    "%matplotlib inline"
   ]
  },
  {
   "cell_type": "markdown",
   "metadata": {},
   "source": [
    "## Data Cleaning"
   ]
  },
  {
   "cell_type": "markdown",
   "metadata": {},
   "source": [
    "### Cleaning Draft Pick Data"
   ]
  },
  {
   "cell_type": "code",
   "execution_count": 6,
   "metadata": {},
   "outputs": [
    {
     "ename": "FileNotFoundError",
     "evalue": "[Errno 2] File b'.././Data_Files/draftpicks.csv' does not exist: b'.././Data_Files/draftpicks.csv'",
     "output_type": "error",
     "traceback": [
      "\u001b[0;31m---------------------------------------------------------------------------\u001b[0m",
      "\u001b[0;31mFileNotFoundError\u001b[0m                         Traceback (most recent call last)",
      "\u001b[0;32m<ipython-input-6-b4e251485e28>\u001b[0m in \u001b[0;36m<module>\u001b[0;34m\u001b[0m\n\u001b[1;32m      1\u001b[0m \u001b[0;31m# reading in NBA draft picks data since 2008\u001b[0m\u001b[0;34m\u001b[0m\u001b[0;34m\u001b[0m\u001b[0;34m\u001b[0m\u001b[0m\n\u001b[0;32m----> 2\u001b[0;31m \u001b[0mdraft_picks\u001b[0m \u001b[0;34m=\u001b[0m \u001b[0mpd\u001b[0m\u001b[0;34m.\u001b[0m\u001b[0mread_csv\u001b[0m\u001b[0;34m(\u001b[0m\u001b[0;34m'.././Data_Files/draftpicks.csv'\u001b[0m\u001b[0;34m,\u001b[0m \u001b[0mindex_col\u001b[0m \u001b[0;34m=\u001b[0m \u001b[0;36m0\u001b[0m\u001b[0;34m)\u001b[0m\u001b[0;34m\u001b[0m\u001b[0;34m\u001b[0m\u001b[0m\n\u001b[0m\u001b[1;32m      3\u001b[0m \u001b[0mdraft_picks\u001b[0m\u001b[0;34m.\u001b[0m\u001b[0mhead\u001b[0m\u001b[0;34m(\u001b[0m\u001b[0;34m)\u001b[0m\u001b[0;34m\u001b[0m\u001b[0;34m\u001b[0m\u001b[0m\n",
      "\u001b[0;32m/anaconda3/envs/dsi/lib/python3.7/site-packages/pandas/io/parsers.py\u001b[0m in \u001b[0;36mparser_f\u001b[0;34m(filepath_or_buffer, sep, delimiter, header, names, index_col, usecols, squeeze, prefix, mangle_dupe_cols, dtype, engine, converters, true_values, false_values, skipinitialspace, skiprows, skipfooter, nrows, na_values, keep_default_na, na_filter, verbose, skip_blank_lines, parse_dates, infer_datetime_format, keep_date_col, date_parser, dayfirst, iterator, chunksize, compression, thousands, decimal, lineterminator, quotechar, quoting, doublequote, escapechar, comment, encoding, dialect, tupleize_cols, error_bad_lines, warn_bad_lines, delim_whitespace, low_memory, memory_map, float_precision)\u001b[0m\n\u001b[1;32m    700\u001b[0m                     skip_blank_lines=skip_blank_lines)\n\u001b[1;32m    701\u001b[0m \u001b[0;34m\u001b[0m\u001b[0m\n\u001b[0;32m--> 702\u001b[0;31m         \u001b[0;32mreturn\u001b[0m \u001b[0m_read\u001b[0m\u001b[0;34m(\u001b[0m\u001b[0mfilepath_or_buffer\u001b[0m\u001b[0;34m,\u001b[0m \u001b[0mkwds\u001b[0m\u001b[0;34m)\u001b[0m\u001b[0;34m\u001b[0m\u001b[0;34m\u001b[0m\u001b[0m\n\u001b[0m\u001b[1;32m    703\u001b[0m \u001b[0;34m\u001b[0m\u001b[0m\n\u001b[1;32m    704\u001b[0m     \u001b[0mparser_f\u001b[0m\u001b[0;34m.\u001b[0m\u001b[0m__name__\u001b[0m \u001b[0;34m=\u001b[0m \u001b[0mname\u001b[0m\u001b[0;34m\u001b[0m\u001b[0;34m\u001b[0m\u001b[0m\n",
      "\u001b[0;32m/anaconda3/envs/dsi/lib/python3.7/site-packages/pandas/io/parsers.py\u001b[0m in \u001b[0;36m_read\u001b[0;34m(filepath_or_buffer, kwds)\u001b[0m\n\u001b[1;32m    427\u001b[0m \u001b[0;34m\u001b[0m\u001b[0m\n\u001b[1;32m    428\u001b[0m     \u001b[0;31m# Create the parser.\u001b[0m\u001b[0;34m\u001b[0m\u001b[0;34m\u001b[0m\u001b[0;34m\u001b[0m\u001b[0m\n\u001b[0;32m--> 429\u001b[0;31m     \u001b[0mparser\u001b[0m \u001b[0;34m=\u001b[0m \u001b[0mTextFileReader\u001b[0m\u001b[0;34m(\u001b[0m\u001b[0mfilepath_or_buffer\u001b[0m\u001b[0;34m,\u001b[0m \u001b[0;34m**\u001b[0m\u001b[0mkwds\u001b[0m\u001b[0;34m)\u001b[0m\u001b[0;34m\u001b[0m\u001b[0;34m\u001b[0m\u001b[0m\n\u001b[0m\u001b[1;32m    430\u001b[0m \u001b[0;34m\u001b[0m\u001b[0m\n\u001b[1;32m    431\u001b[0m     \u001b[0;32mif\u001b[0m \u001b[0mchunksize\u001b[0m \u001b[0;32mor\u001b[0m \u001b[0miterator\u001b[0m\u001b[0;34m:\u001b[0m\u001b[0;34m\u001b[0m\u001b[0;34m\u001b[0m\u001b[0m\n",
      "\u001b[0;32m/anaconda3/envs/dsi/lib/python3.7/site-packages/pandas/io/parsers.py\u001b[0m in \u001b[0;36m__init__\u001b[0;34m(self, f, engine, **kwds)\u001b[0m\n\u001b[1;32m    893\u001b[0m             \u001b[0mself\u001b[0m\u001b[0;34m.\u001b[0m\u001b[0moptions\u001b[0m\u001b[0;34m[\u001b[0m\u001b[0;34m'has_index_names'\u001b[0m\u001b[0;34m]\u001b[0m \u001b[0;34m=\u001b[0m \u001b[0mkwds\u001b[0m\u001b[0;34m[\u001b[0m\u001b[0;34m'has_index_names'\u001b[0m\u001b[0;34m]\u001b[0m\u001b[0;34m\u001b[0m\u001b[0;34m\u001b[0m\u001b[0m\n\u001b[1;32m    894\u001b[0m \u001b[0;34m\u001b[0m\u001b[0m\n\u001b[0;32m--> 895\u001b[0;31m         \u001b[0mself\u001b[0m\u001b[0;34m.\u001b[0m\u001b[0m_make_engine\u001b[0m\u001b[0;34m(\u001b[0m\u001b[0mself\u001b[0m\u001b[0;34m.\u001b[0m\u001b[0mengine\u001b[0m\u001b[0;34m)\u001b[0m\u001b[0;34m\u001b[0m\u001b[0;34m\u001b[0m\u001b[0m\n\u001b[0m\u001b[1;32m    896\u001b[0m \u001b[0;34m\u001b[0m\u001b[0m\n\u001b[1;32m    897\u001b[0m     \u001b[0;32mdef\u001b[0m \u001b[0mclose\u001b[0m\u001b[0;34m(\u001b[0m\u001b[0mself\u001b[0m\u001b[0;34m)\u001b[0m\u001b[0;34m:\u001b[0m\u001b[0;34m\u001b[0m\u001b[0;34m\u001b[0m\u001b[0m\n",
      "\u001b[0;32m/anaconda3/envs/dsi/lib/python3.7/site-packages/pandas/io/parsers.py\u001b[0m in \u001b[0;36m_make_engine\u001b[0;34m(self, engine)\u001b[0m\n\u001b[1;32m   1120\u001b[0m     \u001b[0;32mdef\u001b[0m \u001b[0m_make_engine\u001b[0m\u001b[0;34m(\u001b[0m\u001b[0mself\u001b[0m\u001b[0;34m,\u001b[0m \u001b[0mengine\u001b[0m\u001b[0;34m=\u001b[0m\u001b[0;34m'c'\u001b[0m\u001b[0;34m)\u001b[0m\u001b[0;34m:\u001b[0m\u001b[0;34m\u001b[0m\u001b[0;34m\u001b[0m\u001b[0m\n\u001b[1;32m   1121\u001b[0m         \u001b[0;32mif\u001b[0m \u001b[0mengine\u001b[0m \u001b[0;34m==\u001b[0m \u001b[0;34m'c'\u001b[0m\u001b[0;34m:\u001b[0m\u001b[0;34m\u001b[0m\u001b[0;34m\u001b[0m\u001b[0m\n\u001b[0;32m-> 1122\u001b[0;31m             \u001b[0mself\u001b[0m\u001b[0;34m.\u001b[0m\u001b[0m_engine\u001b[0m \u001b[0;34m=\u001b[0m \u001b[0mCParserWrapper\u001b[0m\u001b[0;34m(\u001b[0m\u001b[0mself\u001b[0m\u001b[0;34m.\u001b[0m\u001b[0mf\u001b[0m\u001b[0;34m,\u001b[0m \u001b[0;34m**\u001b[0m\u001b[0mself\u001b[0m\u001b[0;34m.\u001b[0m\u001b[0moptions\u001b[0m\u001b[0;34m)\u001b[0m\u001b[0;34m\u001b[0m\u001b[0;34m\u001b[0m\u001b[0m\n\u001b[0m\u001b[1;32m   1123\u001b[0m         \u001b[0;32melse\u001b[0m\u001b[0;34m:\u001b[0m\u001b[0;34m\u001b[0m\u001b[0;34m\u001b[0m\u001b[0m\n\u001b[1;32m   1124\u001b[0m             \u001b[0;32mif\u001b[0m \u001b[0mengine\u001b[0m \u001b[0;34m==\u001b[0m \u001b[0;34m'python'\u001b[0m\u001b[0;34m:\u001b[0m\u001b[0;34m\u001b[0m\u001b[0;34m\u001b[0m\u001b[0m\n",
      "\u001b[0;32m/anaconda3/envs/dsi/lib/python3.7/site-packages/pandas/io/parsers.py\u001b[0m in \u001b[0;36m__init__\u001b[0;34m(self, src, **kwds)\u001b[0m\n\u001b[1;32m   1851\u001b[0m         \u001b[0mkwds\u001b[0m\u001b[0;34m[\u001b[0m\u001b[0;34m'usecols'\u001b[0m\u001b[0;34m]\u001b[0m \u001b[0;34m=\u001b[0m \u001b[0mself\u001b[0m\u001b[0;34m.\u001b[0m\u001b[0musecols\u001b[0m\u001b[0;34m\u001b[0m\u001b[0;34m\u001b[0m\u001b[0m\n\u001b[1;32m   1852\u001b[0m \u001b[0;34m\u001b[0m\u001b[0m\n\u001b[0;32m-> 1853\u001b[0;31m         \u001b[0mself\u001b[0m\u001b[0;34m.\u001b[0m\u001b[0m_reader\u001b[0m \u001b[0;34m=\u001b[0m \u001b[0mparsers\u001b[0m\u001b[0;34m.\u001b[0m\u001b[0mTextReader\u001b[0m\u001b[0;34m(\u001b[0m\u001b[0msrc\u001b[0m\u001b[0;34m,\u001b[0m \u001b[0;34m**\u001b[0m\u001b[0mkwds\u001b[0m\u001b[0;34m)\u001b[0m\u001b[0;34m\u001b[0m\u001b[0;34m\u001b[0m\u001b[0m\n\u001b[0m\u001b[1;32m   1854\u001b[0m         \u001b[0mself\u001b[0m\u001b[0;34m.\u001b[0m\u001b[0munnamed_cols\u001b[0m \u001b[0;34m=\u001b[0m \u001b[0mself\u001b[0m\u001b[0;34m.\u001b[0m\u001b[0m_reader\u001b[0m\u001b[0;34m.\u001b[0m\u001b[0munnamed_cols\u001b[0m\u001b[0;34m\u001b[0m\u001b[0;34m\u001b[0m\u001b[0m\n\u001b[1;32m   1855\u001b[0m \u001b[0;34m\u001b[0m\u001b[0m\n",
      "\u001b[0;32mpandas/_libs/parsers.pyx\u001b[0m in \u001b[0;36mpandas._libs.parsers.TextReader.__cinit__\u001b[0;34m()\u001b[0m\n",
      "\u001b[0;32mpandas/_libs/parsers.pyx\u001b[0m in \u001b[0;36mpandas._libs.parsers.TextReader._setup_parser_source\u001b[0;34m()\u001b[0m\n",
      "\u001b[0;31mFileNotFoundError\u001b[0m: [Errno 2] File b'.././Data_Files/draftpicks.csv' does not exist: b'.././Data_Files/draftpicks.csv'"
     ]
    }
   ],
   "source": [
    "# reading in NBA draft picks data since 2008\n",
    "draft_picks = pd.read_csv('.././Data_Files/draftpicks.csv', index_col = 0)\n",
    "draft_picks.head()"
   ]
  },
  {
   "cell_type": "code",
   "execution_count": null,
   "metadata": {},
   "outputs": [],
   "source": [
    "draft_picks.shape"
   ]
  },
  {
   "cell_type": "code",
   "execution_count": null,
   "metadata": {},
   "outputs": [],
   "source": [
    "#removing columns passed college. Unneccesary for my analysis\n",
    "draft_picks = draft_picks[draft_picks.columns[:4]]"
   ]
  },
  {
   "cell_type": "code",
   "execution_count": null,
   "metadata": {},
   "outputs": [],
   "source": [
    "draft_picks.head()"
   ]
  },
  {
   "cell_type": "code",
   "execution_count": null,
   "metadata": {},
   "outputs": [],
   "source": [
    "draft_picks.isnull().sum()"
   ]
  },
  {
   "cell_type": "code",
   "execution_count": null,
   "metadata": {},
   "outputs": [],
   "source": [
    "#dropping international players from analysis. \n",
    "draft_picks = draft_picks[draft_picks['College'].notnull()]"
   ]
  },
  {
   "cell_type": "markdown",
   "metadata": {},
   "source": [
    "I have decided to remove international players from my analysis. It is not an apples to apples comparison when comparing international player stats compared to college basketball."
   ]
  },
  {
   "cell_type": "code",
   "execution_count": null,
   "metadata": {},
   "outputs": [],
   "source": [
    "draft_picks.shape"
   ]
  },
  {
   "cell_type": "code",
   "execution_count": null,
   "metadata": {},
   "outputs": [],
   "source": [
    "#may be some duplicates\n",
    "draft_picks['Player'].nunique()"
   ]
  },
  {
   "cell_type": "code",
   "execution_count": null,
   "metadata": {},
   "outputs": [],
   "source": [
    "draft_picks[draft_picks.duplicated('Player', keep = False)]"
   ]
  },
  {
   "cell_type": "markdown",
   "metadata": {},
   "source": [
    "Two players drafted happened to have the same name. I wanted to make sure that there weren't any duplicates in the dataset."
   ]
  },
  {
   "cell_type": "markdown",
   "metadata": {},
   "source": [
    "### Cleaning Single Season Data"
   ]
  },
  {
   "cell_type": "markdown",
   "metadata": {},
   "source": [
    "I will be using the data from Bart Torvik's website for my analysis. The data includes all stats for all players that have played college basketball since 2008."
   ]
  },
  {
   "cell_type": "code",
   "execution_count": null,
   "metadata": {},
   "outputs": [],
   "source": [
    "#reading in file\n",
    "single_season_df = pd.read_csv('../Data_Files/torvik_data.csv', index_col = 0)"
   ]
  },
  {
   "cell_type": "code",
   "execution_count": null,
   "metadata": {},
   "outputs": [],
   "source": [
    "single_season_df.head()"
   ]
  },
  {
   "cell_type": "code",
   "execution_count": null,
   "metadata": {},
   "outputs": [],
   "source": [
    "#checking to make sure all players drafted are in the scraped dataset from Bart Torvik\n",
    "player_list = []\n",
    "\n",
    "for player in draft_picks['Player']:\n",
    "    if player in set(single_season_df['player_name']):\n",
    "        player_list.append(player)"
   ]
  },
  {
   "cell_type": "code",
   "execution_count": null,
   "metadata": {},
   "outputs": [],
   "source": [
    "len(set(player_list))"
   ]
  },
  {
   "cell_type": "markdown",
   "metadata": {},
   "source": [
    "There must be some drafted players missing from my list since the length of the list does not equal the length of drafted players."
   ]
  },
  {
   "cell_type": "code",
   "execution_count": null,
   "metadata": {},
   "outputs": [],
   "source": [
    "missing = []\n",
    "for player in draft_picks['Player']:\n",
    "    if player not in set(single_season_df['player_name']):\n",
    "        missing.append(player)\n"
   ]
  },
  {
   "cell_type": "code",
   "execution_count": null,
   "metadata": {},
   "outputs": [],
   "source": [
    "len(missing)"
   ]
  },
  {
   "cell_type": "code",
   "execution_count": null,
   "metadata": {},
   "outputs": [],
   "source": [
    "#List of names not showing up in the single season stats dataframe\n",
    "missing"
   ]
  },
  {
   "cell_type": "markdown",
   "metadata": {},
   "source": [
    "Above is a list of the players missing from my dataset. All should be included since my data includes all single season stats for college seasons played since 2008. I am going to check if there are reasons why they are missing. My belief is that the names above are spelt differently in the two datasets. "
   ]
  },
  {
   "cell_type": "code",
   "execution_count": null,
   "metadata": {
    "scrolled": false
   },
   "outputs": [],
   "source": [
    "#checking to see if the players above are really in the dataset. The code below will check by name\n",
    "single_season_df[single_season_df['player_name'].str.contains('Bagley')]"
   ]
  },
  {
   "cell_type": "code",
   "execution_count": null,
   "metadata": {
    "scrolled": true
   },
   "outputs": [],
   "source": [
    "#code will look for players by college\n",
    "single_season_df[single_season_df['school'].str.contains('Miami')].head()"
   ]
  },
  {
   "cell_type": "code",
   "execution_count": null,
   "metadata": {
    "scrolled": false
   },
   "outputs": [],
   "source": [
    "#code will check for players by name and college\n",
    "single_season_df[single_season_df['school'].str.contains('Michigan') & single_season_df['player_name'].str.contains('Hardaway')]\n"
   ]
  },
  {
   "cell_type": "markdown",
   "metadata": {},
   "source": [
    "Tim Hardaway is an example of a player that was \"missing\" in my dataset. As you can see above, the scraped data includes \"Jr.\" in his name. One of the observations also lists his name without the period after Jr. I am going to update this for consistency."
   ]
  },
  {
   "cell_type": "code",
   "execution_count": null,
   "metadata": {},
   "outputs": [],
   "source": [
    "#updating Tim Hardaway Jr. name to be consistent with the other two ways it is spelt\n",
    "single_season_df.loc[single_season_df['player_name'] == 'Tim Hardaway Jr', 'player_name'] = 'Tim Hardaway Jr.'"
   ]
  },
  {
   "cell_type": "code",
   "execution_count": null,
   "metadata": {},
   "outputs": [],
   "source": [
    "#checking correction\n",
    "single_season_df.loc[single_season_df['player_name'] == 'Tim Hardaway Jr.', 'player_name']"
   ]
  },
  {
   "cell_type": "markdown",
   "metadata": {},
   "source": [
    "I noticed in my EDA that Trent Plaisted was not listed as drafted in my dataset which is incorrect. That value will need to be imputed."
   ]
  },
  {
   "cell_type": "code",
   "execution_count": null,
   "metadata": {},
   "outputs": [],
   "source": [
    "single_season_df[single_season_df['player_name'].str.contains('Plaisted')]"
   ]
  },
  {
   "cell_type": "code",
   "execution_count": null,
   "metadata": {},
   "outputs": [],
   "source": [
    "single_season_df.loc[single_season_df['player_name'] == 'Trent Plaisted', 'pick'] = 46"
   ]
  },
  {
   "cell_type": "code",
   "execution_count": null,
   "metadata": {},
   "outputs": [],
   "source": [
    "single_season_df.loc[single_season_df['player_name'] == 'Trent Plaisted', 'pick']"
   ]
  },
  {
   "cell_type": "markdown",
   "metadata": {},
   "source": [
    "#### Updating Player Names"
   ]
  },
  {
   "cell_type": "code",
   "execution_count": null,
   "metadata": {},
   "outputs": [],
   "source": [
    "#name change dictionary\n",
    "#So both dataframes are consistent\n",
    "name_changes = {'J.J. Hickson': \"JJ Hickson\",\n",
    "                'Donté Greene': 'Donte Greene',\n",
    "                'Patrick Ewing': 'Patrick Ewing Jr.',\n",
    "                'Greivis Vásquez': 'Greivis Vasquez',\n",
    "                \"Hamady N'Diaye\": 'Hamady Ndiaye',\n",
    "                'Nikola Vučević': 'Nikola Vucevic',\n",
    "                'Maurice Harkless': 'Moe Harkless',\n",
    "                'Perry Jones': 'Perry Jones III',\n",
    "                'CJ McCollum': 'C.J. McCollum',\n",
    "                'Tim Hardaway': 'Tim Hardaway Jr.',\n",
    "                \"Johnny O'Bryant\": \"Johnny O'Bryant III\",\n",
    "                'Glenn Robinson': 'Glenn Robinson III',\n",
    "                'Devyn Marble': 'Roy Devyn Marble',\n",
    "                'Larry Nance': 'Larry Nance Jr.',\n",
    "                'Joe Young': 'Joseph Young',\n",
    "                'Jakob Pöltl': 'Jakob Poeltl',\n",
    "                'Taurean Waller-Prince': 'Taurean Prince',\n",
    "                'Wade Baldwin': 'Wade Baldwin IV',\n",
    "                'Skal Labissière': 'Skal Labissiere',\n",
    "                'Stephen Zimmerman': 'Stephen Zimmerman Jr.',\n",
    "                'Kay Felder': 'Kahlil Felder',\n",
    "                'Dennis Smith': 'Dennis Smith, Jr.',\n",
    "                'Bam Adebayo': 'Edrice Adebayo',\n",
    "                'T.J. Leaf': 'TJ Leaf',\n",
    "                'Marvin Bagley': 'Marvin Bagley III',\n",
    "                'Jaren Jackson': 'Jaren Jackson Jr.',\n",
    "                'Wendell Carter': 'Wendell Carter Jr.',\n",
    "                'Lonnie Walker': 'Lonnie Walker IV',\n",
    "                'Jacob Evans': 'Jacob Evans III',\n",
    "                'Gary Trent': 'Gary Trent Jr.',\n",
    "                'RJ Barrett': 'R.J. Barrett',\n",
    "                'Dewan Hernandez': 'Dewan Huell',\n",
    "                'Michael Porter' : 'Michael Porter Jr.'}"
   ]
  },
  {
   "cell_type": "code",
   "execution_count": null,
   "metadata": {
    "scrolled": true
   },
   "outputs": [],
   "source": [
    "#updating names in drafted players list\n",
    "for player in draft_picks['Player']:\n",
    "    if player in name_changes.keys():\n",
    "        draft_picks.loc[draft_picks['Player'] == player, 'Player'] = name_changes[player]\n",
    "    else:\n",
    "        pass\n",
    "        "
   ]
  },
  {
   "cell_type": "code",
   "execution_count": null,
   "metadata": {},
   "outputs": [],
   "source": [
    "still_missing = []\n",
    "for player in draft_picks['Player']:\n",
    "    if player not in set(single_season_df['player_name']):\n",
    "        still_missing.append(player)\n"
   ]
  },
  {
   "cell_type": "code",
   "execution_count": null,
   "metadata": {},
   "outputs": [],
   "source": [
    "still_missing"
   ]
  },
  {
   "cell_type": "markdown",
   "metadata": {},
   "source": [
    "All the names have been corrected. Ricky Ledo is still missing because he did not play in college and therefore has no stats. He will not be included in my analysis"
   ]
  },
  {
   "cell_type": "code",
   "execution_count": null,
   "metadata": {},
   "outputs": [],
   "source": [
    "#updating dataframe to only include drafted players\n",
    "single_season_df = single_season_df[single_season_df['player_name'].isin(draft_picks['Player'])]"
   ]
  },
  {
   "cell_type": "code",
   "execution_count": null,
   "metadata": {},
   "outputs": [],
   "source": [
    "#checking null values in pick column\n",
    "single_season_df['pick'].isnull().sum()"
   ]
  },
  {
   "cell_type": "markdown",
   "metadata": {},
   "source": [
    "The pick column should have zero null values since all players in the dataset were drafted. I am going to check to see if there are more situations of players having the same name but went to different schools. The players not drafted will be removed."
   ]
  },
  {
   "cell_type": "code",
   "execution_count": null,
   "metadata": {
    "scrolled": true
   },
   "outputs": [],
   "source": [
    "single_season_df[single_season_df['pick'].isnull()].head()"
   ]
  },
  {
   "cell_type": "markdown",
   "metadata": {},
   "source": [
    "As expected there are several players with the same names. The players not drafted will be removed."
   ]
  },
  {
   "cell_type": "code",
   "execution_count": null,
   "metadata": {},
   "outputs": [],
   "source": [
    "#removing rows with null values in pick column\n",
    "single_season_df = single_season_df[single_season_df['pick'].notnull()]"
   ]
  },
  {
   "cell_type": "code",
   "execution_count": null,
   "metadata": {},
   "outputs": [],
   "source": [
    "single_season_df['pick'].isnull().sum()"
   ]
  },
  {
   "cell_type": "code",
   "execution_count": null,
   "metadata": {},
   "outputs": [],
   "source": [
    "set(draft_picks['Player']) - set(single_season_df['player_name'])"
   ]
  },
  {
   "cell_type": "markdown",
   "metadata": {},
   "source": [
    "Two players ae missing. Ricky Ledo which as stated before makes sense since he did not play in college. Mike Taylor was kicked off his college team in 2007 so I don't have data on him since it was prior to 2008."
   ]
  },
  {
   "cell_type": "markdown",
   "metadata": {},
   "source": [
    "#### Identifying All-Star Players"
   ]
  },
  {
   "cell_type": "code",
   "execution_count": null,
   "metadata": {},
   "outputs": [],
   "source": [
    "#reading in file\n",
    "all_star = pd.read_csv('../Data_Files/all_star_rosters.csv', index_col = 0)"
   ]
  },
  {
   "cell_type": "code",
   "execution_count": null,
   "metadata": {},
   "outputs": [],
   "source": [
    "all_star.head()"
   ]
  },
  {
   "cell_type": "code",
   "execution_count": null,
   "metadata": {},
   "outputs": [],
   "source": [
    "#Making sure that the names are spelt in the same way between the list of all-stars and the single season stats.\n",
    "all_stars = []\n",
    "for player in all_star['Name']:\n",
    "    if player in set(single_season_df['player_name']):\n",
    "        all_stars.append(player)"
   ]
  },
  {
   "cell_type": "code",
   "execution_count": null,
   "metadata": {},
   "outputs": [],
   "source": [
    "all_stars"
   ]
  },
  {
   "cell_type": "markdown",
   "metadata": {},
   "source": [
    "All college players drafted since 2008 that have made an All-Star team are listed above. All other players in the All-Star dataframe were either drafted prior to 2008 or played internationally."
   ]
  },
  {
   "cell_type": "code",
   "execution_count": null,
   "metadata": {},
   "outputs": [],
   "source": [
    "#creating a column in the df if the player made an all-star game. This is the target column.\n",
    "single_season_df['all_star'] = single_season_df['player_name'].map(lambda x: 1 if x in set(all_star['Name']) else 0)\n",
    "\n"
   ]
  },
  {
   "cell_type": "code",
   "execution_count": null,
   "metadata": {},
   "outputs": [],
   "source": [
    "single_season_df['all_star'].value_counts()"
   ]
  },
  {
   "cell_type": "code",
   "execution_count": null,
   "metadata": {},
   "outputs": [],
   "source": [
    "single_season_df[single_season_df['all_star'] == 1]"
   ]
  },
  {
   "cell_type": "markdown",
   "metadata": {},
   "source": [
    "The single-season dataframe now includes all the data for the players we are looking to use. "
   ]
  },
  {
   "cell_type": "code",
   "execution_count": null,
   "metadata": {},
   "outputs": [],
   "source": [
    "single_season_df.shape"
   ]
  },
  {
   "cell_type": "markdown",
   "metadata": {},
   "source": [
    "#### Keeping Last Year Played in College"
   ]
  },
  {
   "cell_type": "markdown",
   "metadata": {},
   "source": [
    "In my dataset, each season that a player played in college is listed as a separate line item. This is going to skew my data and analysis since a player that has made an All-Star team in the NBA and played multiple seasons in college will be listed multiple times as having made the All-Star game. In order to enhance my analysis, I am going to only keep the last year a player played in college. That season is most used by front offices and scouts when evaluating talent for the NBA. This tends to be a players best performing season in college."
   ]
  },
  {
   "cell_type": "code",
   "execution_count": null,
   "metadata": {},
   "outputs": [],
   "source": [
    "#dropping duplicates and keeping last\n",
    "#pid is a unique identifier for each player\n",
    "single_season_df.drop_duplicates('pid' , keep = 'last', inplace = True)"
   ]
  },
  {
   "cell_type": "code",
   "execution_count": null,
   "metadata": {},
   "outputs": [],
   "source": [
    "single_season_df.shape"
   ]
  },
  {
   "cell_type": "code",
   "execution_count": null,
   "metadata": {
    "scrolled": false
   },
   "outputs": [],
   "source": [
    "single_season_df['pid'].nunique()"
   ]
  },
  {
   "cell_type": "markdown",
   "metadata": {},
   "source": [
    "Dataframe now only has one season's worth of data for each player."
   ]
  },
  {
   "cell_type": "code",
   "execution_count": null,
   "metadata": {},
   "outputs": [],
   "source": [
    "#updating Damian Lillard's year in college to senior. Value was incorrect in the data.\n",
    "single_season_df.loc[single_season_df['player_name'] == 'Damian Lillard', 'yr'] = 'Sr'"
   ]
  },
  {
   "cell_type": "code",
   "execution_count": null,
   "metadata": {},
   "outputs": [],
   "source": [
    "single_season_df.loc[single_season_df['player_name'] == 'Damian Lillard', 'yr']"
   ]
  },
  {
   "cell_type": "code",
   "execution_count": null,
   "metadata": {},
   "outputs": [],
   "source": [
    "#resetting index\n",
    "single_season_df.reset_index(drop = True, inplace = True)"
   ]
  },
  {
   "cell_type": "code",
   "execution_count": null,
   "metadata": {
    "scrolled": false
   },
   "outputs": [],
   "source": [
    "#checking data types and null values\n",
    "single_season_df.info()"
   ]
  },
  {
   "cell_type": "code",
   "execution_count": null,
   "metadata": {},
   "outputs": [],
   "source": [
    "#filtering for only object columns\n",
    "single_season_df.select_dtypes('object').head()"
   ]
  },
  {
   "cell_type": "markdown",
   "metadata": {},
   "source": [
    "Above are the columns listed as objects(strings). I am going to adjust the conference column for power 5 and non-power 5 conferences. Non-power 5 will be their own group. Then I will dummy the adjusted column. The yr column will be turned into a scale and equal to number of years played in college. Height will be turned into an integer in inches. The number and type columns will be dropped since they do not provide any valuable information."
   ]
  },
  {
   "cell_type": "markdown",
   "metadata": {},
   "source": [
    "#### Null Values"
   ]
  },
  {
   "cell_type": "code",
   "execution_count": null,
   "metadata": {},
   "outputs": [],
   "source": [
    "#list of columns with missing values\n",
    "single_season_df.isnull().mean().sort_values(ascending = False).head(15)"
   ]
  },
  {
   "cell_type": "markdown",
   "metadata": {},
   "source": [
    "I am going to delete the columns that have over 10% missing values. These columns are not critical in my analysis and are mainly specific to players at the center position. "
   ]
  },
  {
   "cell_type": "code",
   "execution_count": null,
   "metadata": {},
   "outputs": [],
   "source": [
    "#dropping columns\n",
    "columns_drop = ['dunksmade/(dunksmade+dunksmiss)',\n",
    "                'midmade/(midmade+mismiss)',\n",
    "                'rimmade/(rimmade+rimmiss)',\n",
    "                'rimmade',\n",
    "                'midmade',\n",
    "                'midmade + midmiss',\n",
    "                'dunksmade',\n",
    "                'dunksmiss + dunksmade',\n",
    "                'rimmade + rimmiss',\n",
    "                'num',\n",
    "                'rec-rk',\n",
    "                'type']\n",
    "\n",
    "single_season_df.drop(columns = columns_drop, inplace = True)"
   ]
  },
  {
   "cell_type": "code",
   "execution_count": null,
   "metadata": {},
   "outputs": [],
   "source": [
    "single_season_df.isnull().mean().sort_values(ascending = False).head()"
   ]
  },
  {
   "cell_type": "code",
   "execution_count": null,
   "metadata": {},
   "outputs": [],
   "source": [
    "single_season_df.isnull().sum().sum()"
   ]
  },
  {
   "cell_type": "markdown",
   "metadata": {},
   "source": [
    "No more missing values."
   ]
  },
  {
   "cell_type": "markdown",
   "metadata": {},
   "source": [
    "#### Adjusting Height Column"
   ]
  },
  {
   "cell_type": "markdown",
   "metadata": {},
   "source": [
    "The height column is currently listed as a string. I am going to turn the column into an integer equal to height in inches."
   ]
  },
  {
   "cell_type": "code",
   "execution_count": null,
   "metadata": {},
   "outputs": [],
   "source": [
    "single_season_df['ht'].value_counts()"
   ]
  },
  {
   "cell_type": "code",
   "execution_count": null,
   "metadata": {},
   "outputs": [],
   "source": [
    "#turning height columns to inches\n",
    "single_season_df['ht'] = single_season_df['ht'].str.replace('-', '').map(lambda x: (int(x[0]) * 12) + int(x[1:]))\n",
    "\n"
   ]
  },
  {
   "cell_type": "code",
   "execution_count": null,
   "metadata": {},
   "outputs": [],
   "source": [
    "single_season_df['ht'].head()"
   ]
  },
  {
   "cell_type": "code",
   "execution_count": null,
   "metadata": {},
   "outputs": [],
   "source": [
    "single_season_df['ht'].dtype"
   ]
  },
  {
   "cell_type": "markdown",
   "metadata": {},
   "source": [
    "#### Updating Conference Column"
   ]
  },
  {
   "cell_type": "code",
   "execution_count": null,
   "metadata": {},
   "outputs": [],
   "source": [
    "single_season_df['conference'].value_counts()"
   ]
  },
  {
   "cell_type": "markdown",
   "metadata": {},
   "source": [
    "I am going to update the conference column between major conferences and non-major. The major conferences will be the largest conferences, also known as power-5. Please note that I will be including the PAC-10 as well as the Big East(BE) as major conferences. PAC-10 is now the PAC-12 and the Big East was formerly a major conference up until conference re-allignment in 2013."
   ]
  },
  {
   "cell_type": "code",
   "execution_count": null,
   "metadata": {},
   "outputs": [],
   "source": [
    "#updating conference\n",
    "major_conf = ['ACC', 'SEC', 'B12', 'BE', 'B10', 'P12', 'P10']\n",
    "\n",
    "single_season_df['conference'] = single_season_df['conference'].map(lambda x: x if x in major_conf else 'Non_major')\n",
    "\n"
   ]
  },
  {
   "cell_type": "code",
   "execution_count": null,
   "metadata": {},
   "outputs": [],
   "source": [
    "single_season_df['conference'].value_counts()"
   ]
  },
  {
   "cell_type": "code",
   "execution_count": null,
   "metadata": {},
   "outputs": [],
   "source": [
    "single_season_df.head()"
   ]
  },
  {
   "cell_type": "markdown",
   "metadata": {},
   "source": [
    "#### Creating Total Points and PPG Column"
   ]
  },
  {
   "cell_type": "markdown",
   "metadata": {},
   "source": [
    "I am going to create a points per game column by adding and multiplying the values from the free throws made, two-pointers made and three-pointers made columns. The formula is: **Free Throws Made + (Two-Pointers Made * 2) + (Three-Pointers Made * 3)**"
   ]
  },
  {
   "cell_type": "code",
   "execution_count": null,
   "metadata": {},
   "outputs": [],
   "source": [
    "single_season_df.head()"
   ]
  },
  {
   "cell_type": "code",
   "execution_count": null,
   "metadata": {},
   "outputs": [],
   "source": [
    "#creating total points column\n",
    "single_season_df['total_points'] = single_season_df['FTM'] + (single_season_df['twoPM'] * 2) + (single_season_df['TPM'] * 3)\n",
    "\n"
   ]
  },
  {
   "cell_type": "code",
   "execution_count": null,
   "metadata": {},
   "outputs": [],
   "source": [
    "#creating points per game column\n",
    "single_season_df['PPG'] = np.round(single_season_df['total_points'] / single_season_df['GP'], 2)\n",
    "                 "
   ]
  },
  {
   "cell_type": "code",
   "execution_count": null,
   "metadata": {},
   "outputs": [],
   "source": [
    "single_season_df.head()"
   ]
  },
  {
   "cell_type": "markdown",
   "metadata": {},
   "source": [
    "#### Creating Position Column"
   ]
  },
  {
   "cell_type": "markdown",
   "metadata": {},
   "source": [
    "Unfortunately the dataset I collected did not include the position of the players. I am going to attempt to impute the values for each player from another dataset."
   ]
  },
  {
   "cell_type": "code",
   "execution_count": null,
   "metadata": {},
   "outputs": [],
   "source": [
    "#reading in data from basketball-reference.com\n",
    "position_df = pd.read_csv('../Data_Files/single_season.csv', index_col = 0)\n",
    "position_df.head()"
   ]
  },
  {
   "cell_type": "code",
   "execution_count": null,
   "metadata": {},
   "outputs": [],
   "source": [
    "#renaming player column to be the same as single season dataframe so I can do a merge\n",
    "position_df.rename({'Player': 'player_name'}, axis = 1, inplace = True)"
   ]
  },
  {
   "cell_type": "code",
   "execution_count": null,
   "metadata": {},
   "outputs": [],
   "source": [
    "#dropping duplicates\n",
    "position_df.drop_duplicates(subset = 'player_name', inplace = True)"
   ]
  },
  {
   "cell_type": "code",
   "execution_count": null,
   "metadata": {},
   "outputs": [],
   "source": [
    "#merging the two dataframes to get the position \n",
    "single_season_df = pd.merge(single_season_df, position_df, on = 'player_name', how = 'left')"
   ]
  },
  {
   "cell_type": "code",
   "execution_count": null,
   "metadata": {},
   "outputs": [],
   "source": [
    "single_season_df.head()"
   ]
  },
  {
   "cell_type": "code",
   "execution_count": null,
   "metadata": {
    "scrolled": true
   },
   "outputs": [],
   "source": [
    "single_season_df.shape"
   ]
  },
  {
   "cell_type": "code",
   "execution_count": null,
   "metadata": {},
   "outputs": [],
   "source": [
    "#removing unneccessary columns from the end of the dataset\n",
    "single_season_df = single_season_df.loc[: , : 'Pos']\n",
    "\n",
    "#renaming \"FTA_x\" to \"FTA\"\n",
    "single_season_df.rename(columns = {'FTA_x': 'FTA'}, inplace = True)\n"
   ]
  },
  {
   "cell_type": "code",
   "execution_count": null,
   "metadata": {},
   "outputs": [],
   "source": [
    "single_season_df.head()"
   ]
  },
  {
   "cell_type": "code",
   "execution_count": null,
   "metadata": {},
   "outputs": [],
   "source": [
    "#dropping season and class columns\n",
    "single_season_df.drop(columns =  ['Class', 'Season'], inplace = True)"
   ]
  },
  {
   "cell_type": "code",
   "execution_count": null,
   "metadata": {
    "scrolled": true
   },
   "outputs": [],
   "source": [
    "single_season_df.shape"
   ]
  },
  {
   "cell_type": "code",
   "execution_count": null,
   "metadata": {},
   "outputs": [],
   "source": [
    "len(set(single_season_df['player_name']) - set(position_df['player_name']))"
   ]
  },
  {
   "cell_type": "markdown",
   "metadata": {},
   "source": [
    "Some players are missing from the dataset collected from basketball reference."
   ]
  },
  {
   "cell_type": "code",
   "execution_count": null,
   "metadata": {},
   "outputs": [],
   "source": [
    "single_season_df[single_season_df['Pos'].isnull()].shape"
   ]
  },
  {
   "cell_type": "code",
   "execution_count": null,
   "metadata": {},
   "outputs": [],
   "source": [
    "#dictionary to update position for missing players\n",
    "position_dict = {'Alex Oriakhi' : 'F', 'Andre Drummond' : 'C', 'Andre Roberson': 'F','Andrew Harrison': 'G', 'Andy Rautins': 'G', 'Austin Daye' : 'F',\n",
    "                 'Avery Bradley' : 'G', 'Bernard James' : 'F', 'Bol Bol': 'C','Branden Dawson' : 'G', 'Bruce Brown' : 'G', 'Byron Mullens' : 'C',\n",
    "                 'Cady Lalanne' : 'C', 'Chandler Parsons' : 'F', 'Cheick Diallo': 'F','Chinanu Onuaku' : 'F', 'Chinemelu Elonu' : 'C', 'Chris McCullough' : 'F',\n",
    "                 'Chris Singleton' : 'F', 'Cory Joseph': 'G', 'D.J. Wilson' : 'F','DaJuan Summers': 'F', 'Dakari Johnson': 'C', 'Daniel Orton' : 'F',\n",
    "                 'Darius Garland': 'G', 'Darius Miller' : 'G', \"De'Anthony Melton\" : 'G','DeAndre Jordan' : 'C', 'DeAndre Liggins': 'G', \"DeAndre' Bembry\" : 'F',\n",
    "                 'DeVon Hardin' : 'C', 'Dennis Smith, Jr.' : 'G', 'Derrick Caracter' : 'F','Devin Booker': 'G', 'Devin Ebanks' : 'F', 'Devon Hall': 'G', 'Dewan Huell': 'F',\n",
    "                 'Dexter Pittman' : 'C', 'Deyonta Davis' : 'F', 'Diamond Stone' : 'C','Dwayne Collins' : 'F', 'Ed Davis': 'F', 'Edmond Sumner' : 'G',\n",
    "                 'Edrice Adebayo' : 'F', 'Eric Bledsoe' : 'G', 'Fab Melo': 'C','Frank Jackson' : 'G', 'Glen Rice' : 'G', 'Glenn Robinson III': 'F',\n",
    "                 'Goran Suton' : 'C', 'Gorgui Dieng' : 'C', 'Grant Jerrett': 'F','Hamady Ndiaye' : 'C', 'Hamidou Diallo' : 'G' , 'Harry Giles': 'F',\n",
    "                 'Ike Anigbogu' : 'F', 'Isaiah Roby' : 'F', 'Ivan Rabb': 'F','J.P. Tokoto' : 'F', 'JJ Hickson' : 'F', 'Jabari Bird' : 'G',\n",
    "                 'Jacob Evans III' : 'G', 'Jake Layman' : 'F', 'Jaren Jackson Jr.' : 'F','Jarred Vanderbilt' : 'F', 'Jaxson Hayes' : 'F', 'Jerami Grant' : 'F',\n",
    "                 'Jeremy Evans' : 'F', 'Joe Harris': 'G', 'Joel Embiid' : 'C', 'Joey Dorsey': 'F', \"Johnny O'Bryant III\" : 'F', 'Jonathan Isaac' : 'F',\n",
    "                 'Jordan Bell': 'F', 'Joseph Young' : 'G', 'Josh Harrellson' : 'F', 'Josh Huestis': 'F', 'Josh Selby': 'G', 'Jrue Holiday': 'G',\n",
    "                 'Justin Anderson' : 'G', 'Justin Hamilton' : 'C', 'KZ Okpala' : 'F', 'Kadeem Allen' : 'G', 'Kahlil Felder' : 'G', 'Karl-Anthony Towns' : 'F',\n",
    "                 'Kelly Oubre' : 'G', 'Kendall Marshall' : 'G', 'Kevin Porter Jr.': 'G', 'Kevon Looney': 'F', 'Kostas Antetokounmpo' : 'F', 'Kyle Weaver' : 'G',\n",
    "                 'Kyrie Irving' : 'G', 'Lance Stephenson': 'G', 'Larry Nance Jr.' : 'F', 'Lavoy Allen': 'F', 'Lonnie Walker IV' : 'G', 'Luc Mbah a Moute' : 'F',\n",
    "                 'Malcolm Lee' : 'G', 'MarShon Brooks' : 'G', 'Marquis Teague': 'G', 'Matisse Thybulle' : 'G', 'Meyers Leonard': 'C', 'Michael Porter Jr.': 'F',\n",
    "                 'Miles Plumlee': 'F', 'Mitch McGary': 'F', 'Moe Harkless' : 'G', 'Mohamed Bamba': 'C', 'Myles Turner': 'F', 'Nassir Little': 'F',\n",
    "                 'Nerlens Noel': 'F', 'Nicolas Claxton': 'F', 'Noah Vonleh': 'F', 'OG Anunoby': 'F', 'Omari Spellman': 'F', 'Patrick Ewing Jr.': 'F',\n",
    "                 'Patty Mills': 'G', 'Perry Jones III' : 'F', 'Peyton Siva' : 'G', 'Quincy Miller' : 'F', 'Rashad Vaughn': 'G',\n",
    "                 'Ray Spalding': 'F', 'Robert Williams': 'F', 'Robin Lopez': 'C', 'Rondae Hollis-Jefferson' : 'F', 'Ryan Kelly': 'F', 'Ryan Reid' : 'F',\n",
    "                 'Sasha Kaun': 'C', 'Skal Labissiere': 'F', 'Solomon Alabi': 'C', 'Stephen Zimmerman Jr.' : 'F', 'Steven Adams' : 'C', 'Talen Horton-Tucker': 'G',\n",
    "                 'Taylor Griffin': 'F', 'Terance Mann': 'G', 'Thomas Bryant': 'F', 'Thomas Welsh' : 'C', 'Tim Hardaway Jr.': 'G', 'Tiny Gallon': 'F',\n",
    "                 'Tony Bradley': 'F', 'Trey Lyles': 'F', 'Troy Brown': 'F', 'Tyler Honeycutt': 'F', 'Vernon Macklin': 'F', 'Wade Baldwin IV':'G',\n",
    "                 'Walter Sharpe': 'F', 'Wesley Johnson': 'F', 'Willie Cauley-Stein': 'F', 'Zach Collins': 'F', 'Zach LaVine': 'G',\n",
    "                 'Zhaire Smith': 'G'}\n",
    "\n",
    "\n"
   ]
  },
  {
   "cell_type": "code",
   "execution_count": null,
   "metadata": {},
   "outputs": [],
   "source": [
    "#updating missing values in position columns\n",
    "for player in single_season_df['player_name']:\n",
    "    if player in position_dict.keys():\n",
    "        single_season_df.loc[single_season_df['player_name'] == player, 'Pos'] = position_dict[player]\n",
    "    else:\n",
    "        pass"
   ]
  },
  {
   "cell_type": "code",
   "execution_count": null,
   "metadata": {},
   "outputs": [],
   "source": [
    "single_season_df['Pos'].isnull().sum()"
   ]
  },
  {
   "cell_type": "markdown",
   "metadata": {},
   "source": [
    "All players now have positions listed."
   ]
  },
  {
   "cell_type": "markdown",
   "metadata": {},
   "source": [
    "#### Adjusting Yr Column"
   ]
  },
  {
   "cell_type": "markdown",
   "metadata": {},
   "source": [
    "Currently the yr column lists a player as Freshman, Sophomore, Junior or Senior depending on what grade they are in. I am going to adjust this column so that each grade corresponds to a value which will represent the number of years the player played in college."
   ]
  },
  {
   "cell_type": "code",
   "execution_count": null,
   "metadata": {},
   "outputs": [],
   "source": [
    "single_season_df['yr'].value_counts()"
   ]
  },
  {
   "cell_type": "code",
   "execution_count": null,
   "metadata": {},
   "outputs": [],
   "source": [
    "#creating dictionary for map function\n",
    "yr_map = {'Fr' : 1,\n",
    "          'So' : 2,\n",
    "          'Jr' : 3,\n",
    "          'Sr' : 4}\n",
    "\n",
    "single_season_df['yr'] = single_season_df['yr'].map(yr_map)"
   ]
  },
  {
   "cell_type": "code",
   "execution_count": null,
   "metadata": {},
   "outputs": [],
   "source": [
    "single_season_df['yr'].value_counts()"
   ]
  },
  {
   "cell_type": "markdown",
   "metadata": {},
   "source": [
    "## EDA"
   ]
  },
  {
   "cell_type": "markdown",
   "metadata": {},
   "source": [
    "### Descriptive Statistics & Visualizations"
   ]
  },
  {
   "cell_type": "code",
   "execution_count": null,
   "metadata": {},
   "outputs": [],
   "source": [
    "single_season_df.describe()"
   ]
  },
  {
   "cell_type": "markdown",
   "metadata": {},
   "source": [
    "Nothing abnormal stands out from descriptive statistics above. I am going to look at the columns graphically to look for trends and any abnormalities or outliers."
   ]
  },
  {
   "cell_type": "code",
   "execution_count": null,
   "metadata": {},
   "outputs": [],
   "source": [
    "# All-Star % by School\n",
    "plt.figure(figsize= (20, 40))\n",
    "sns.barplot(y = 'school', x= 'all_star', data = single_season_df, orient = 'h', ci = None, edgecolor = 'black')\n",
    "plt.title('All Star % by School', size = 30)\n",
    "plt.xlabel('All Star %', size = 25)\n",
    "plt.ylabel('School', size = 25)\n",
    "plt.xticks(size = 16)\n",
    "plt.yticks(size = 16);"
   ]
  },
  {
   "cell_type": "code",
   "execution_count": null,
   "metadata": {},
   "outputs": [],
   "source": [
    "#Plotting where current All-Stars when to College\n",
    "plt.figure(figsize = (12,8))\n",
    "single_season_df[single_season_df['all_star'] == 1]['school'].value_counts(normalize = True).plot(kind = 'barh',\n",
    "                                                                                                 edgecolor = 'black')\n",
    "plt.title('% of All-Stars by School', size = 22)\n",
    "plt.xlabel('School', size = 18)\n",
    "plt.ylabel(\"All-Star %\", size = 18)\n",
    "plt.xticks(rotation = 0, size = 16)\n",
    "plt.yticks(size = 16);"
   ]
  },
  {
   "cell_type": "markdown",
   "metadata": {},
   "source": [
    "Due to so many schools not having any all stars, I am going to remove that column from the dataset. I will be able to get more information from the conferences column. It is interesting to note though that Kentucky has had the most players become all-stars that have been drafted over the last 10 years. "
   ]
  },
  {
   "cell_type": "code",
   "execution_count": null,
   "metadata": {},
   "outputs": [],
   "source": [
    "single_season_df.conference.value_counts()"
   ]
  },
  {
   "cell_type": "markdown",
   "metadata": {},
   "source": [
    "The ACC conference has had the most players drafted since 2008 followed by the sum of all the non-major conferences. PAC10 has by the fewest but this is partially due to the conference expanding to the PAC12 in 2011."
   ]
  },
  {
   "cell_type": "code",
   "execution_count": null,
   "metadata": {
    "scrolled": false
   },
   "outputs": [],
   "source": [
    "# Graphs showing All-Star % by # of Years Played in College\n",
    "plt.figure(figsize= (22, 8))\n",
    "\n",
    "plt.subplot(1,2,1)\n",
    "sns.barplot(x = 'conference', y= 'all_star', data = single_season_df, ci = None)\n",
    "plt.xlabel('Conference', size = 18)\n",
    "plt.ylabel('All-Star %', size = 18)\n",
    "plt.title('All-Star % by Conference', size = 22)\n",
    "plt.xticks(size = 16)\n",
    "plt.yticks(size = 16)\n",
    "\n",
    "plt.subplot(1,2,2)\n",
    "single_season_df[single_season_df['all_star'] == 1]['conference'].value_counts(normalize = True).plot(kind = 'bar')\n",
    "plt.title('% of All-Stars by Conference', size = 22)\n",
    "plt.xlabel('Conference', size = 18)\n",
    "plt.ylabel(\"All-Star %\", size = 18)\n",
    "plt.xticks(rotation = 0, size = 16)\n",
    "plt.yticks(size = 16);"
   ]
  },
  {
   "cell_type": "markdown",
   "metadata": {},
   "source": [
    "The percentage of players that have become All-Stars from each conference is pretty surprising. We did not expect the non_major conferences to have a higher percentage of All-Stars than the ACC which has historically been the best conference in college basketball. Despite having by far the fewest draft picks, the PAC10 had the largest All-Star % by approximately 20%. When a PAC10 player was drafted, they were more often than not a quality player. The PAC12 has not had any All-Stars since the conference was formed from the PAC10 in 2011. It is also interesting to note that close to 50% of the All-Stars drafted since 2008 played in the PAC10 or a Non-major conference. Playing in the best conference in college does not necessarily translate to being successful at the professional level. "
   ]
  },
  {
   "cell_type": "code",
   "execution_count": null,
   "metadata": {},
   "outputs": [],
   "source": [
    "#All-Star % by conference\n",
    "single_season_df.groupby('conference')['all_star'].mean()"
   ]
  },
  {
   "cell_type": "code",
   "execution_count": null,
   "metadata": {},
   "outputs": [],
   "source": [
    "# What conference did current All-Stars play in college\n",
    "single_season_df[single_season_df['all_star'] == 1]['conference'].value_counts(normalize = True)"
   ]
  },
  {
   "cell_type": "code",
   "execution_count": null,
   "metadata": {},
   "outputs": [],
   "source": [
    "# Graphs showing All-Star % by # of Years Played in College\n",
    "plt.figure(figsize= (16, 8))\n",
    "\n",
    "plt.subplot(1,2,1)\n",
    "sns.barplot(x = 'yr', y= 'all_star', data = single_season_df, ci = None)\n",
    "plt.xlabel('Years Played', size = 18)\n",
    "plt.ylabel('All Star %', size = 18)\n",
    "plt.title('All Star % by # of Years Played', size = 22)\n",
    "plt.xticks(size = 16)\n",
    "plt.yticks(size = 16)\n",
    "\n",
    "plt.subplot(1,2,2)\n",
    "single_season_df[single_season_df['all_star'] == 1]['yr'].value_counts(normalize = True).plot(kind = 'bar')\n",
    "plt.title('Years Played in College for All-Stars', size = 22)\n",
    "plt.xlabel('Years Played', size = 18)\n",
    "plt.ylabel(\"All-Star %\", size = 18)\n",
    "plt.xticks(rotation = 0, size = 16)\n",
    "plt.yticks(size = 16);"
   ]
  },
  {
   "cell_type": "markdown",
   "metadata": {},
   "source": [
    "The graph on the left shows a breakdown of the percentage of college players drafted that became All-Stars for each college year. Both Freshmen and Sophomores have a higher overall rate than the average for all players drafted (approx. 5%). This shows that the number of years of experience playing in college does not necessarily mean that a player will become successful in the NBA. Players that leave after 1 or 2 years in school are usually more prepared and do not need additional development at the college level. They also tend to be higher rated recruits coming out of high school which has been a big determinant of future draft position which is correlated with becoming an All-Star.\n",
    "\n",
    "The graph on the right shows what percentage of all-stars left college as a Freshman, Sophomore, Junior or Senior. These results are in line with the previous graph. The majority of All-Stars in the last 10 years left college after only playing 1 or 2 years."
   ]
  },
  {
   "cell_type": "code",
   "execution_count": null,
   "metadata": {
    "scrolled": true
   },
   "outputs": [],
   "source": [
    "# All-Star % by years played\n",
    "single_season_df.groupby('yr')['all_star'].mean()"
   ]
  },
  {
   "cell_type": "code",
   "execution_count": null,
   "metadata": {
    "scrolled": false
   },
   "outputs": [],
   "source": [
    "# How many years did current All-Stars play on average in college\n",
    "single_season_df[single_season_df['all_star'] == 1]['yr'].value_counts(normalize = True)"
   ]
  },
  {
   "cell_type": "code",
   "execution_count": null,
   "metadata": {},
   "outputs": [],
   "source": [
    "#Plotting All-Star % by Year-Drafted\n",
    "plt.figure(figsize= (20, 8))\n",
    "\n",
    "plt.subplot(1,2,1)\n",
    "\n",
    "\n",
    "sns.barplot(x = 'year', y= 'all_star', data = single_season_df, ci = None)\n",
    "plt.xlabel('Year Drafted', size = 18)\n",
    "plt.ylabel('All-Star %', size = 18)\n",
    "plt.title('All Star % by Year Drafted', size = 22)\n",
    "plt.xticks(size = 16)\n",
    "plt.yticks(size = 16)\n",
    "\n",
    "plt.subplot(1,2,2)\n",
    "single_season_df[single_season_df['all_star'] == 1]['year'].value_counts(normalize = True).plot(kind = 'bar')\n",
    "plt.title('Year Drafted for All-Star Players', size = 22)\n",
    "plt.xlabel('Year Drafted', size = 18)\n",
    "plt.ylabel(\"All-Star %\", size = 18)\n",
    "plt.xticks(rotation = 0, size = 16)\n",
    "plt.yticks(size = 16);"
   ]
  },
  {
   "cell_type": "markdown",
   "metadata": {},
   "source": [
    "No player that was drafted in the last 3 years has made an All-Star game. This shows how difficult it is to make the team and that in the NBA it is hard to come in and be successful right away. It takes a lot of growth and development."
   ]
  },
  {
   "cell_type": "code",
   "execution_count": null,
   "metadata": {},
   "outputs": [],
   "source": [
    "# % of players to make All-Star game by year drafted\n",
    "single_season_df.groupby('year')['all_star'].mean()"
   ]
  },
  {
   "cell_type": "code",
   "execution_count": null,
   "metadata": {
    "scrolled": true
   },
   "outputs": [],
   "source": [
    "# When current All-Stars were drafted\n",
    "single_season_df[single_season_df['all_star'] == 1]['year'].value_counts(normalize = True)"
   ]
  },
  {
   "cell_type": "code",
   "execution_count": null,
   "metadata": {},
   "outputs": [],
   "source": [
    "#plotting All-Star % by Position\n",
    "plt.figure(figsize= (16, 8))\n",
    "\n",
    "plt.subplot(1,2,1)\n",
    "\n",
    "sns.barplot(x = 'Pos', y= 'all_star', data = single_season_df, ci = None)\n",
    "plt.xlabel('Position', size = 18)\n",
    "plt.ylabel('All-Star %', size = 18)\n",
    "plt.title('All Star % by Position', size = 22)\n",
    "plt.xticks(size = 16)\n",
    "plt.yticks(size = 16)\n",
    "\n",
    "plt.subplot(1,2,2)\n",
    "single_season_df[single_season_df['all_star'] == 1]['Pos'].value_counts(normalize = True).plot(kind = 'bar')\n",
    "plt.title('Position of All-Star Players', size = 22)\n",
    "plt.xlabel('Position', size = 18)\n",
    "plt.ylabel(\"All-Star %\", size = 18)\n",
    "plt.xticks(rotation = 0, size = 16)\n",
    "plt.yticks(size = 16);"
   ]
  },
  {
   "cell_type": "markdown",
   "metadata": {},
   "source": [
    "- G: Guard\n",
    "- F: Forward\n",
    "- C: Center\n",
    "\n",
    "Centers had the highest rate of becoming an All-Star of the players drafted since 2008 at approximately 11%. Forwards were least likely at a rate of approximately 4%. It is important to note that there have been far fewer centers enter the draft than either guards or forwards. Despite this, the positive hit rate for centers is higher than the other positions. Of the players that have made an All-Star game, 83% have been guards and forwards. This makes sense since historically there have been two guards, two forwards and one center in a starting lineup. However, over the last several years this standard lineup has changed as the game has been more focused on shooting and playing more athletic smaller players."
   ]
  },
  {
   "cell_type": "code",
   "execution_count": null,
   "metadata": {
    "scrolled": true
   },
   "outputs": [],
   "source": [
    "single_season_df['Pos'].value_counts()"
   ]
  },
  {
   "cell_type": "code",
   "execution_count": null,
   "metadata": {
    "scrolled": false
   },
   "outputs": [],
   "source": [
    "single_season_df.groupby('Pos')['all_star'].mean()"
   ]
  },
  {
   "cell_type": "code",
   "execution_count": null,
   "metadata": {
    "scrolled": true
   },
   "outputs": [],
   "source": [
    "single_season_df[single_season_df['all_star'] == 1]['Pos'].value_counts(normalize = True)"
   ]
  },
  {
   "cell_type": "code",
   "execution_count": null,
   "metadata": {},
   "outputs": [],
   "source": [
    "single_season_df.groupby('all_star').mean().T"
   ]
  },
  {
   "cell_type": "markdown",
   "metadata": {},
   "source": [
    "Not many of the stats have large discrepancies when categorized by All-Star vs non-All-Stars. All-Stars take and make more free throws. This could be because better college players tend to be more aggressive which is correlated with getting fouled more often. All-Stars also have a higher popag and are drafted significantly earlier. This makes sense since the players drafted earliest are supposed to be the best. It was also suprising to me that the points per game for All-Stars were only slightly higher (approx. 1 point) than non-All-Stars. \n"
   ]
  },
  {
   "cell_type": "code",
   "execution_count": null,
   "metadata": {
    "scrolled": true
   },
   "outputs": [],
   "source": [
    "single_season_df.groupby('all_star')['ht'].describe().T"
   ]
  },
  {
   "cell_type": "code",
   "execution_count": null,
   "metadata": {
    "scrolled": true
   },
   "outputs": [],
   "source": [
    "single_season_df[(single_season_df['all_star'] == 1) & (single_season_df['ht'] == 86)]"
   ]
  },
  {
   "cell_type": "code",
   "execution_count": null,
   "metadata": {},
   "outputs": [],
   "source": [
    "single_season_df[(single_season_df['all_star'] == 1) & (single_season_df['ht'] == 69)]"
   ]
  },
  {
   "cell_type": "markdown",
   "metadata": {},
   "source": [
    "The shortest player to make an All-Star team is only 5 foot 9 inches (Isaiah Thomas) and the tallest person is 7 foot 2 inches (Roy Hibbert).  The average All-Star is 6 foot 6 inches."
   ]
  },
  {
   "cell_type": "code",
   "execution_count": null,
   "metadata": {},
   "outputs": [],
   "source": [
    "single_season_df.groupby('all_star')['GP'].describe().T"
   ]
  },
  {
   "cell_type": "code",
   "execution_count": null,
   "metadata": {},
   "outputs": [],
   "source": [
    "single_season_df[(single_season_df['all_star'] == 1) & (single_season_df['GP'] == 11)]"
   ]
  },
  {
   "cell_type": "code",
   "execution_count": null,
   "metadata": {},
   "outputs": [],
   "source": [
    "single_season_df[(single_season_df['all_star'] == 1) & (single_season_df['GP'] == 41)]"
   ]
  },
  {
   "cell_type": "code",
   "execution_count": null,
   "metadata": {},
   "outputs": [],
   "source": [
    "single_season_df[single_season_df['all_star'] ==1].hist(column = 'GP', figsize = (10,6))\n",
    "plt.title('College Games Played for All-Stars', size = 20)\n",
    "plt.xlabel('Games Played', size = 14)\n",
    "plt.ylabel('Frequency', size = 14);\n",
    "                                  \n",
    "                                  "
   ]
  },
  {
   "cell_type": "markdown",
   "metadata": {},
   "source": [
    "The majority of all-stars played between 30 and 40 games in their final college season. Only Kyrie Irving played less than 25 games when he played 11 games in his Freshman year at Duke. Kyrie Irving went on to be the first pick in the draft and has been a perennial All-Star. He is clearly not the norm. The majority of All-Stars played over 35 games in their final season which means they played deep into the NCAA tournament which signifies that the players were on successful teams. It also shows that NBA All-Stars were healthy in college."
   ]
  },
  {
   "cell_type": "code",
   "execution_count": null,
   "metadata": {},
   "outputs": [],
   "source": [
    "#columns to drop for histograms\n",
    "drop = ['player_name','school', 'conference', 'year', 'pid', 'pick', 'all_star', 'Pos']\n"
   ]
  },
  {
   "cell_type": "code",
   "execution_count": null,
   "metadata": {},
   "outputs": [],
   "source": [
    "#Created a function below to create histograms for many features.\n",
    "#Code assistance from Andrew Bergman\n",
    "def make_histograms(df,list_of_columns):\n",
    "    fig   = plt.figure(figsize = (20, 40))      # Set the size for each plot\n",
    "    count = 0                                   # The count sets the location for each subplot\n",
    "    for column in list_of_columns:\n",
    "        count += 1                              # By adding 1 to the count I can create a new location for the graph\n",
    "        ax = fig.add_subplot(16, 3, count)\n",
    "        df.hist(column = column, ax = ax, figsize = (10,12))\n",
    "        plt.title(column, size = 18); \n",
    "    plt.tight_layout();"
   ]
  },
  {
   "cell_type": "code",
   "execution_count": null,
   "metadata": {},
   "outputs": [],
   "source": [
    "#histograms for numerical columns\n",
    "make_histograms(single_season_df, single_season_df.drop(columns = drop).columns)"
   ]
  },
  {
   "cell_type": "code",
   "execution_count": null,
   "metadata": {
    "scrolled": true
   },
   "outputs": [],
   "source": [
    "single_season_df.groupby('Pos')['TPM'].mean()"
   ]
  },
  {
   "cell_type": "markdown",
   "metadata": {},
   "source": [
    "Many of the stats look to be normally distributed. Several features are skewed to the left including games played, minutes percentage and free throw percentage. They are skewed to the left due to several players being outliers and having values far lower than the average. Games played will be low for players that have been injured. Minutes played tend to be low when a player isn't a starter which is rare for a player that gets drafted. The features related to three point shooting are skewed to the right. Not all players shoot a large amount of threes. Guards shoot by far the most three pointers in a season. Approximately 60 threes a season for guards compared to 24 and 6.5 for forwards and centers respectively."
   ]
  },
  {
   "cell_type": "code",
   "execution_count": null,
   "metadata": {},
   "outputs": [],
   "source": [
    "#histograms for numerical columns for only the players that have made an all-star game\n",
    "make_histograms(single_season_df[single_season_df['all_star'] == 1],single_season_df.drop(columns = drop).columns)\n",
    "\n"
   ]
  },
  {
   "cell_type": "code",
   "execution_count": null,
   "metadata": {
    "scrolled": true
   },
   "outputs": [],
   "source": [
    "single_season_df[(single_season_df['all_star'] == 1) & (single_season_df['GP'] < 25)]"
   ]
  },
  {
   "cell_type": "code",
   "execution_count": null,
   "metadata": {
    "scrolled": false
   },
   "outputs": [],
   "source": [
    "single_season_df[(single_season_df['all_star'] == 1) & (single_season_df['FTA'] > 250)]"
   ]
  },
  {
   "cell_type": "markdown",
   "metadata": {},
   "source": [
    "It is easier to outliers when focusing on just the players that have been All-Stars. For example with the games played column, it is easy to see that there was only one player that played less than 25 games in a season and played less than 40% of a teams minutes(both Kyrie Irving). It becomes easier to filter the data when looking at the distributions. For example, we can quickly look at the players with the most free throws attempted (see below) and see that it is a combination of guards and forwards."
   ]
  },
  {
   "cell_type": "code",
   "execution_count": null,
   "metadata": {},
   "outputs": [],
   "source": [
    "#columns to drop for correlation map\n",
    "corr_drop = ['player_name','school', 'conference', 'year', 'pid', 'pick', 'Pos']\n"
   ]
  },
  {
   "cell_type": "code",
   "execution_count": null,
   "metadata": {},
   "outputs": [],
   "source": [
    "#Looking at correlation heatmap for numerical columns versus the all_star column\n",
    "plt.figure(figsize = (2,20))\n",
    "\n",
    "sns.heatmap(single_season_df.drop(columns = corr_drop).corr()[['all_star']].sort_values(by = 'all_star', ascending = False), \n",
    "            annot = True, \n",
    "            cmap = 'RdBu',\n",
    "            vmin = -1,\n",
    "           annot_kws={\"size\":12})\n",
    "plt.xticks(size = 14)\n",
    "plt.yticks(size = 14);\n",
    "\n"
   ]
  },
  {
   "cell_type": "markdown",
   "metadata": {},
   "source": [
    "Very few numerical columns are highly correlated with becoming an all-star. In fact, the majority of columns show relatively no correlation at all. This may make it difficult for models to predict the target variable correctly."
   ]
  },
  {
   "cell_type": "markdown",
   "metadata": {},
   "source": [
    "### Creating Dummy Columns"
   ]
  },
  {
   "cell_type": "markdown",
   "metadata": {},
   "source": [
    "I am going to turn the conference and position columns into dummy variables before modeling the data in order to represent the categorical features."
   ]
  },
  {
   "cell_type": "code",
   "execution_count": null,
   "metadata": {},
   "outputs": [],
   "source": [
    "#creating dummy columns\n",
    "dummy_columns = ['conference', 'Pos']\n",
    "\n",
    "single_season_df = pd.get_dummies(data = single_season_df, columns = dummy_columns, drop_first= True)"
   ]
  },
  {
   "cell_type": "markdown",
   "metadata": {},
   "source": [
    "### More EDA After Modeling"
   ]
  },
  {
   "cell_type": "markdown",
   "metadata": {},
   "source": [
    "I am going to reduce some of the features that were intially used in the model. Several of the features have some overlap in the way they are calculated so should be able to be removed. \n",
    "\n",
    "- FTM, FTA and FT_per \n",
    "- twoPM, twoPA and twoP_per\n",
    "- TPM, TPA and TP_per\n",
    "\n",
    "Before I remove the columns that are not percentages, I am going to create a new percentage column using Bayesian statistics. There is no mininum number of shot attempts in the original calculations so someone who has only taken a few shots and made a higher percentage will be weighted the same as someone who took many field goal attempts with a lower percentage. I want to make sure my percentage data isn't skewed due to this case. I am going to use prior knowledge along with a likelihood function to calculate the posterior distribution for each field goal type. I will then calculate the the maximum a posteriori (MAP) estimate of for each field goal type."
   ]
  },
  {
   "cell_type": "markdown",
   "metadata": {},
   "source": [
    "**Free Throws**\n",
    "\n",
    "Our prior belief for free throws is that out of 100 shots a player would make 70 free throws. This data was calculated by averaging all free throw attempts in college over the last 10 years. The calculation can be seen in the **Data Scrape - Team Stats for Bayes Analysis** notebook."
   ]
  },
  {
   "cell_type": "code",
   "execution_count": null,
   "metadata": {},
   "outputs": [],
   "source": [
    "#Graphically showing the prior\n",
    "alpha_prior = 71\n",
    "beta_prior = 31\n",
    "\n",
    "distn = stats.beta(alpha_prior, beta_prior)\n",
    "\n",
    "x_axis = np.linspace(0, 1, 100)\n",
    "\n",
    "plt.plot(x_axis, distn.pdf(x_axis));"
   ]
  },
  {
   "cell_type": "markdown",
   "metadata": {},
   "source": [
    "The graph above shows the beta distribution for free throw percentage given the prior knowledge that 70% is the historical average. You can see that the peak of the distribution graph occurs around 70%."
   ]
  },
  {
   "cell_type": "code",
   "execution_count": null,
   "metadata": {},
   "outputs": [],
   "source": [
    "single_season_df.head()"
   ]
  },
  {
   "cell_type": "code",
   "execution_count": null,
   "metadata": {
    "scrolled": false
   },
   "outputs": [],
   "source": [
    "#create misses column\n",
    "single_season_df['FT_misses'] = single_season_df['FTA'] - single_season_df['FTM']"
   ]
  },
  {
   "cell_type": "code",
   "execution_count": null,
   "metadata": {},
   "outputs": [],
   "source": [
    "single_season_df['new_FTM'] = single_season_df['FTM'] + alpha_prior\n",
    "single_season_df['new_FT_misses'] = single_season_df['FT_misses'] + beta_prior"
   ]
  },
  {
   "cell_type": "code",
   "execution_count": null,
   "metadata": {},
   "outputs": [],
   "source": [
    "#Creating MAP for Free Throw Average\n",
    "single_season_df['new_FT_avg'] = (single_season_df['new_FTM'] - 1) / (single_season_df['new_FTM'] + single_season_df['new_FT_misses'] - 2)\n"
   ]
  },
  {
   "cell_type": "code",
   "execution_count": null,
   "metadata": {},
   "outputs": [],
   "source": [
    "plt.figure(figsize = (12, 8))\n",
    "sns.regplot(single_season_df['FT_per'], single_season_df['new_FT_avg'], ci = False)\n",
    "plt.xlabel('Original Free Throw %', size = 18)\n",
    "plt.ylabel('Adjusted Free Throw %', size = 18)\n",
    "plt.title('Free Throw % (Bayes)', size = 22)\n",
    "plt.xticks(size = 16)\n",
    "plt.yticks(size = 16)\n",
    "plt.xlim(.3, 1)\n",
    "plt.ylim(.3, 1);\n"
   ]
  },
  {
   "cell_type": "markdown",
   "metadata": {},
   "source": [
    "Utilizing the Beta distribution to conduct Bayesian inference on free throw percentage produced the results above. The Beta distribution will adjust the percentage more players with extremely high or low rates. Values around 70% did not change as they had a similar value to the prior.\n",
    "\n",
    "---"
   ]
  },
  {
   "cell_type": "markdown",
   "metadata": {},
   "source": [
    "**3-point Shots**\n",
    "\n",
    "Our prior belief for three point shots is that out of 100 shots a player would make 35 free throws. This data was calculated by averaging all three point attempts in college over the last 10 years. The calculation can be seen in the **Data Scrape - Team Stats for Bayes Analysis** notebook.\n"
   ]
  },
  {
   "cell_type": "code",
   "execution_count": null,
   "metadata": {},
   "outputs": [],
   "source": [
    "#Graphically showing the prior\n",
    "alpha_prior = 36\n",
    "beta_prior = 66\n",
    "\n",
    "distn = stats.beta(alpha_prior, beta_prior)\n",
    "\n",
    "x_axis = np.linspace(0, 1, 100)\n",
    "\n",
    "plt.plot(x_axis, distn.pdf(x_axis));"
   ]
  },
  {
   "cell_type": "markdown",
   "metadata": {},
   "source": [
    "The graph above shows the beta distribution for 3-point percentage given the prior knowledge that 35% is the historical average. You can see that the peak of the distribution graph occurs around 35%."
   ]
  },
  {
   "cell_type": "code",
   "execution_count": null,
   "metadata": {},
   "outputs": [],
   "source": [
    "#create misses column\n",
    "single_season_df['3P_misses'] = single_season_df['TPA'] - single_season_df['TPM']"
   ]
  },
  {
   "cell_type": "code",
   "execution_count": null,
   "metadata": {},
   "outputs": [],
   "source": [
    "single_season_df['new_TPM'] = single_season_df['TPM'] + alpha_prior\n",
    "single_season_df['new_3P_misses'] = single_season_df['3P_misses'] + beta_prior"
   ]
  },
  {
   "cell_type": "code",
   "execution_count": null,
   "metadata": {},
   "outputs": [],
   "source": [
    "#Creating MAP for 3 Point Average\n",
    "single_season_df['new_3P_avg'] = (single_season_df['new_TPM'] - 1) / (single_season_df['new_TPM'] + single_season_df['new_3P_misses'] - 2)\n"
   ]
  },
  {
   "cell_type": "code",
   "execution_count": null,
   "metadata": {},
   "outputs": [],
   "source": [
    "plt.figure(figsize = (12, 8))\n",
    "sns.regplot(single_season_df['TP_per'], single_season_df['new_3P_avg'], ci = False)\n",
    "plt.xlabel('Original 3-Point %', size = 18)\n",
    "plt.ylabel('Adjusted 3-Point %', size = 18)\n",
    "plt.title('3-Point % (Bayes)', size = 22)\n",
    "plt.xticks(size = 16)\n",
    "plt.yticks(size = 16);\n"
   ]
  },
  {
   "cell_type": "markdown",
   "metadata": {},
   "source": [
    "Adjusting 3-point percentages by utilizing the Beta distribution produced the results above. The Beta distribution will adjust the percentage more for players with extremely high or low 3-point percentages. For example, players that had a 100% original shooting percentage were adjusted down and ones that had a 0% were adjusted up. Values around 35% did not change as they had a similar value to the prior.\n",
    "\n",
    "---"
   ]
  },
  {
   "cell_type": "markdown",
   "metadata": {},
   "source": [
    "**2-Point Shots**\n",
    "\n",
    "Our prior belief for two point shots is that out of 100 shots a player would make 49 two point shots. This data was calculated by averaging all two point attempts in college over the last 10 years. The calculation can be seen in the **Data Scrape - Team Stats for Bayes Analysis** notebook.\n",
    "\n",
    "twoPM, twoPA and twoP_per"
   ]
  },
  {
   "cell_type": "code",
   "execution_count": null,
   "metadata": {},
   "outputs": [],
   "source": [
    "#Graphically showing the prior\n",
    "alpha_prior = 50\n",
    "beta_prior = 52\n",
    "\n",
    "distn = stats.beta(alpha_prior, beta_prior)\n",
    "\n",
    "x_axis = np.linspace(0, 1, 100)\n",
    "\n",
    "plt.plot(x_axis, distn.pdf(x_axis));"
   ]
  },
  {
   "cell_type": "markdown",
   "metadata": {},
   "source": [
    "The graph above shows the beta distribution for 2-point percentage given the prior knowledge that 49% is the historical average. You can see that the peak of the distribution graph occurs around 49%."
   ]
  },
  {
   "cell_type": "code",
   "execution_count": null,
   "metadata": {},
   "outputs": [],
   "source": [
    "#create misses column\n",
    "single_season_df['2P_misses'] = single_season_df['twoPA'] - single_season_df['twoPM']"
   ]
  },
  {
   "cell_type": "code",
   "execution_count": null,
   "metadata": {},
   "outputs": [],
   "source": [
    "single_season_df['new_2PM'] = single_season_df['twoPM'] + alpha_prior\n",
    "single_season_df['new_2P_misses'] = single_season_df['2P_misses'] + beta_prior"
   ]
  },
  {
   "cell_type": "code",
   "execution_count": null,
   "metadata": {},
   "outputs": [],
   "source": [
    "#Creating MAP for 3 Point Average\n",
    "single_season_df['new_2P_avg'] = (single_season_df['new_2PM'] - 1) / (single_season_df['new_2PM'] + single_season_df['new_2P_misses'] - 2)\n"
   ]
  },
  {
   "cell_type": "code",
   "execution_count": null,
   "metadata": {},
   "outputs": [],
   "source": [
    "plt.figure(figsize = (12, 8))\n",
    "sns.regplot(single_season_df['twoP_per'], single_season_df['new_2P_avg'], ci = False)\n",
    "plt.title('2-Point % (Bayes)', size = 22)\n",
    "plt.xlabel('Original 2-Point %', size = 18)\n",
    "plt.ylabel('Adjusted 2-Point %', size = 18)\n",
    "plt.xticks(size = 16)\n",
    "plt.yticks(size = 16)\n",
    "plt.xlim(.3, .8)\n",
    "plt.ylim(.3, .8);\n"
   ]
  },
  {
   "cell_type": "markdown",
   "metadata": {},
   "source": [
    "Adjusting 2-point percentages by utilizing the Beta distribution produced the results above. The Beta distribution will adjust the percentage more for players with extremely high or low 2-point percentages. For example, players that had an original shooting percentage above 70% were adjusted down and ones that had below 40% were adjusted up. Values around 50% did not change as they had a similar value to the prior.\n"
   ]
  },
  {
   "cell_type": "code",
   "execution_count": null,
   "metadata": {},
   "outputs": [],
   "source": [
    "single_season_df.head()"
   ]
  },
  {
   "cell_type": "code",
   "execution_count": null,
   "metadata": {
    "scrolled": false
   },
   "outputs": [],
   "source": [
    "single_season_df.groupby('all_star').mean().T"
   ]
  },
  {
   "cell_type": "markdown",
   "metadata": {},
   "source": [
    "#### Saving Files for Modeling"
   ]
  },
  {
   "cell_type": "code",
   "execution_count": null,
   "metadata": {},
   "outputs": [],
   "source": [
    "#turning dataframe to CSV to use in separate notebook for modeling.\n",
    "single_season_df.to_csv('../Data_Files/model_single_season.csv')"
   ]
  },
  {
   "cell_type": "code",
   "execution_count": null,
   "metadata": {},
   "outputs": [],
   "source": [
    "#creating file with Bayes columns\n",
    "single_season_df.to_csv('../Data_Files/model_single_season_bayes.csv')"
   ]
  },
  {
   "cell_type": "code",
   "execution_count": null,
   "metadata": {},
   "outputs": [],
   "source": []
  }
 ],
 "metadata": {
  "kernelspec": {
   "display_name": "Python [conda env:dsi] *",
   "language": "python",
   "name": "conda-env-dsi-py"
  },
  "language_info": {
   "codemirror_mode": {
    "name": "ipython",
    "version": 3
   },
   "file_extension": ".py",
   "mimetype": "text/x-python",
   "name": "python",
   "nbconvert_exporter": "python",
   "pygments_lexer": "ipython3",
   "version": "3.7.3"
  }
 },
 "nbformat": 4,
 "nbformat_minor": 2
}
