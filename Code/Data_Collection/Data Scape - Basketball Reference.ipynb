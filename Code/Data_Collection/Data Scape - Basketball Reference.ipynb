{
 "cells": [
  {
   "cell_type": "markdown",
   "metadata": {},
   "source": [
    "## Data Scrape - Basketball Reference"
   ]
  },
  {
   "cell_type": "markdown",
   "metadata": {},
   "source": [
    "This notebook will be used to scape data from basketballreference.com to collect individual player stats by season and by aggregate."
   ]
  },
  {
   "cell_type": "markdown",
   "metadata": {},
   "source": [
    "### Contents\n",
    "\n",
    "- [Imports](#Imports)\n",
    "- [Single Seasons](#Single-Season-DF)\n",
    "- [Total Seasons](#Total-Season)\n"
   ]
  },
  {
   "cell_type": "markdown",
   "metadata": {},
   "source": [
    "### Imports"
   ]
  },
  {
   "cell_type": "code",
   "execution_count": 1,
   "metadata": {},
   "outputs": [],
   "source": [
    "# Import libraries\n",
    "import pandas as pd\n",
    "import requests\n",
    "from bs4 import BeautifulSoup\n",
    "import time"
   ]
  },
  {
   "cell_type": "markdown",
   "metadata": {},
   "source": [
    "### Single Season DF"
   ]
  },
  {
   "cell_type": "code",
   "execution_count": 2,
   "metadata": {},
   "outputs": [],
   "source": [
    "#collecting data from the following website which is a search query\n",
    "url = 'https://www.sports-reference.com/cbb/play-index/psl_finder.cgi?request=1&match=single&year_min=2006&year_max=2019&class_is_fr=Y&class_is_so=Y&class_is_jr=Y&class_is_sr=Y&pos_is_g=Y&pos_is_gf=Y&pos_is_f=Y&pos_is_fg=Y&pos_is_fc=Y&pos_is_c=Y&pos_is_cf=Y&games_type=A&order_by=pts'\n",
    "rec = requests.get(url)\n"
   ]
  },
  {
   "cell_type": "code",
   "execution_count": 3,
   "metadata": {},
   "outputs": [
    {
     "data": {
      "text/plain": [
       "200"
      ]
     },
     "execution_count": 3,
     "metadata": {},
     "output_type": "execute_result"
    }
   ],
   "source": [
    "rec.status_code"
   ]
  },
  {
   "cell_type": "code",
   "execution_count": 4,
   "metadata": {},
   "outputs": [],
   "source": [
    "soup = BeautifulSoup(rec.content, 'lxml')"
   ]
  },
  {
   "cell_type": "code",
   "execution_count": 5,
   "metadata": {},
   "outputs": [],
   "source": [
    "#finding the table that includes the data we're looking for\n",
    "table = soup.find('table', {'class': 'sortable stats_table'})"
   ]
  },
  {
   "cell_type": "code",
   "execution_count": 6,
   "metadata": {},
   "outputs": [],
   "source": [
    "#creating list of columns headers for the data frame\n",
    "columns = [th.text for th in table.find_all('tr')[1].find_all('th')]"
   ]
  },
  {
   "cell_type": "code",
   "execution_count": 7,
   "metadata": {},
   "outputs": [
    {
     "data": {
      "text/plain": [
       "['Jimmer Fredette',\n",
       " 'SR',\n",
       " '2010-11',\n",
       " 'G',\n",
       " 'Brigham Young',\n",
       " 'MWC',\n",
       " '37',\n",
       " '1323',\n",
       " '346',\n",
       " '765',\n",
       " '222',\n",
       " '452',\n",
       " '124',\n",
       " '313',\n",
       " '252',\n",
       " '282',\n",
       " '24',\n",
       " '103',\n",
       " '127',\n",
       " '160',\n",
       " '49',\n",
       " '1',\n",
       " '131',\n",
       " '49',\n",
       " '1068']"
      ]
     },
     "execution_count": 7,
     "metadata": {},
     "output_type": "execute_result"
    }
   ],
   "source": [
    "#example of pulling one player's data\n",
    "[td.text for td in table.find('tbody').find_all('tr')[0].find_all('td')]"
   ]
  },
  {
   "cell_type": "code",
   "execution_count": 8,
   "metadata": {
    "scrolled": false
   },
   "outputs": [],
   "source": [
    "#creating list of stats for each player\n",
    "all_players = []\n",
    "for player in table.find('tbody').find_all('tr'):\n",
    "    player_stat = [td.text for td in player.find_all('td')]\n",
    "    all_players.append(player_stat)\n",
    "    "
   ]
  },
  {
   "cell_type": "code",
   "execution_count": 9,
   "metadata": {},
   "outputs": [],
   "source": [
    "#creating dataframe\n",
    "df = pd.DataFrame(all_players, columns = columns[1:])"
   ]
  },
  {
   "cell_type": "code",
   "execution_count": 10,
   "metadata": {},
   "outputs": [
    {
     "data": {
      "text/html": [
       "<div>\n",
       "<style scoped>\n",
       "    .dataframe tbody tr th:only-of-type {\n",
       "        vertical-align: middle;\n",
       "    }\n",
       "\n",
       "    .dataframe tbody tr th {\n",
       "        vertical-align: top;\n",
       "    }\n",
       "\n",
       "    .dataframe thead th {\n",
       "        text-align: right;\n",
       "    }\n",
       "</style>\n",
       "<table border=\"1\" class=\"dataframe\">\n",
       "  <thead>\n",
       "    <tr style=\"text-align: right;\">\n",
       "      <th></th>\n",
       "      <th>Player</th>\n",
       "      <th>Class</th>\n",
       "      <th>Season</th>\n",
       "      <th>Pos</th>\n",
       "      <th>School</th>\n",
       "      <th>Conf</th>\n",
       "      <th>G</th>\n",
       "      <th>MP</th>\n",
       "      <th>FG</th>\n",
       "      <th>FGA</th>\n",
       "      <th>...</th>\n",
       "      <th>FTA</th>\n",
       "      <th>ORB</th>\n",
       "      <th>DRB</th>\n",
       "      <th>TRB</th>\n",
       "      <th>AST</th>\n",
       "      <th>STL</th>\n",
       "      <th>BLK</th>\n",
       "      <th>TOV</th>\n",
       "      <th>PF</th>\n",
       "      <th>PTS</th>\n",
       "    </tr>\n",
       "  </thead>\n",
       "  <tbody>\n",
       "    <tr>\n",
       "      <th>0</th>\n",
       "      <td>Jimmer Fredette</td>\n",
       "      <td>SR</td>\n",
       "      <td>2010-11</td>\n",
       "      <td>G</td>\n",
       "      <td>Brigham Young</td>\n",
       "      <td>MWC</td>\n",
       "      <td>37</td>\n",
       "      <td>1323</td>\n",
       "      <td>346</td>\n",
       "      <td>765</td>\n",
       "      <td>...</td>\n",
       "      <td>282</td>\n",
       "      <td>24</td>\n",
       "      <td>103</td>\n",
       "      <td>127</td>\n",
       "      <td>160</td>\n",
       "      <td>49</td>\n",
       "      <td>1</td>\n",
       "      <td>131</td>\n",
       "      <td>49</td>\n",
       "      <td>1068</td>\n",
       "    </tr>\n",
       "    <tr>\n",
       "      <th>1</th>\n",
       "      <td>Chris Clemons</td>\n",
       "      <td>SR</td>\n",
       "      <td>2018-19</td>\n",
       "      <td>G</td>\n",
       "      <td>Campbell</td>\n",
       "      <td>Big South</td>\n",
       "      <td>33</td>\n",
       "      <td>1208</td>\n",
       "      <td>304</td>\n",
       "      <td>679</td>\n",
       "      <td>...</td>\n",
       "      <td>283</td>\n",
       "      <td>25</td>\n",
       "      <td>142</td>\n",
       "      <td>167</td>\n",
       "      <td>94</td>\n",
       "      <td>49</td>\n",
       "      <td>11</td>\n",
       "      <td>84</td>\n",
       "      <td>63</td>\n",
       "      <td>993</td>\n",
       "    </tr>\n",
       "    <tr>\n",
       "      <th>2</th>\n",
       "      <td>Stephen Curry</td>\n",
       "      <td>JR</td>\n",
       "      <td>2008-09</td>\n",
       "      <td>G</td>\n",
       "      <td>Davidson</td>\n",
       "      <td>Southern</td>\n",
       "      <td>34</td>\n",
       "      <td>1145</td>\n",
       "      <td>312</td>\n",
       "      <td>687</td>\n",
       "      <td>...</td>\n",
       "      <td>251</td>\n",
       "      <td>21</td>\n",
       "      <td>130</td>\n",
       "      <td>151</td>\n",
       "      <td>189</td>\n",
       "      <td>86</td>\n",
       "      <td>8</td>\n",
       "      <td>126</td>\n",
       "      <td>81</td>\n",
       "      <td>974</td>\n",
       "    </tr>\n",
       "    <tr>\n",
       "      <th>3</th>\n",
       "      <td>Kemba Walker</td>\n",
       "      <td>JR</td>\n",
       "      <td>2010-11</td>\n",
       "      <td>G</td>\n",
       "      <td>Connecticut</td>\n",
       "      <td>Big East</td>\n",
       "      <td>41</td>\n",
       "      <td>1543</td>\n",
       "      <td>316</td>\n",
       "      <td>739</td>\n",
       "      <td>...</td>\n",
       "      <td>315</td>\n",
       "      <td>53</td>\n",
       "      <td>170</td>\n",
       "      <td>223</td>\n",
       "      <td>184</td>\n",
       "      <td>77</td>\n",
       "      <td>7</td>\n",
       "      <td>93</td>\n",
       "      <td>56</td>\n",
       "      <td>965</td>\n",
       "    </tr>\n",
       "    <tr>\n",
       "      <th>4</th>\n",
       "      <td>J.J. Redick</td>\n",
       "      <td>SR</td>\n",
       "      <td>2005-06</td>\n",
       "      <td>G</td>\n",
       "      <td>Duke</td>\n",
       "      <td>ACC</td>\n",
       "      <td>36</td>\n",
       "      <td>1336</td>\n",
       "      <td>302</td>\n",
       "      <td>643</td>\n",
       "      <td>...</td>\n",
       "      <td>256</td>\n",
       "      <td>7</td>\n",
       "      <td>64</td>\n",
       "      <td>71</td>\n",
       "      <td>95</td>\n",
       "      <td>52</td>\n",
       "      <td>2</td>\n",
       "      <td>90</td>\n",
       "      <td>54</td>\n",
       "      <td>964</td>\n",
       "    </tr>\n",
       "  </tbody>\n",
       "</table>\n",
       "<p>5 rows × 25 columns</p>\n",
       "</div>"
      ],
      "text/plain": [
       "            Player Class   Season Pos         School       Conf   G    MP  \\\n",
       "0  Jimmer Fredette    SR  2010-11   G  Brigham Young        MWC  37  1323   \n",
       "1    Chris Clemons    SR  2018-19   G       Campbell  Big South  33  1208   \n",
       "2    Stephen Curry    JR  2008-09   G       Davidson   Southern  34  1145   \n",
       "3     Kemba Walker    JR  2010-11   G    Connecticut   Big East  41  1543   \n",
       "4      J.J. Redick    SR  2005-06   G           Duke        ACC  36  1336   \n",
       "\n",
       "    FG  FGA  ...  FTA ORB  DRB  TRB  AST STL BLK  TOV  PF   PTS  \n",
       "0  346  765  ...  282  24  103  127  160  49   1  131  49  1068  \n",
       "1  304  679  ...  283  25  142  167   94  49  11   84  63   993  \n",
       "2  312  687  ...  251  21  130  151  189  86   8  126  81   974  \n",
       "3  316  739  ...  315  53  170  223  184  77   7   93  56   965  \n",
       "4  302  643  ...  256   7   64   71   95  52   2   90  54   964  \n",
       "\n",
       "[5 rows x 25 columns]"
      ]
     },
     "execution_count": 10,
     "metadata": {},
     "output_type": "execute_result"
    }
   ],
   "source": [
    "df.head()"
   ]
  },
  {
   "cell_type": "code",
   "execution_count": 11,
   "metadata": {},
   "outputs": [
    {
     "name": "stdout",
     "output_type": "stream",
     "text": [
      "Collected 100 players\n",
      "Collected 200 players\n",
      "Collected 300 players\n",
      "Collected 400 players\n",
      "Collected 500 players\n",
      "Collected 600 players\n",
      "Collected 700 players\n",
      "Collected 800 players\n",
      "Collected 900 players\n",
      "Collected 1000 players\n",
      "Collected 1100 players\n",
      "Collected 1200 players\n",
      "Collected 1300 players\n",
      "Collected 1400 players\n",
      "Collected 1500 players\n",
      "Collected 1600 players\n",
      "Collected 1700 players\n",
      "Collected 1800 players\n",
      "Collected 1900 players\n",
      "Collected 2000 players\n",
      "Collected 2100 players\n",
      "Collected 2200 players\n",
      "Collected 2300 players\n",
      "Collected 2400 players\n",
      "Collected 2500 players\n",
      "Collected 2600 players\n",
      "Collected 2700 players\n",
      "Collected 2800 players\n",
      "Collected 2900 players\n",
      "Collected 3000 players\n",
      "Collected 3100 players\n",
      "Collected 3200 players\n",
      "Collected 3300 players\n",
      "Collected 3400 players\n",
      "Collected 3500 players\n",
      "Collected 3600 players\n",
      "Collected 3700 players\n",
      "Collected 3800 players\n",
      "Collected 3900 players\n",
      "Collected 4000 players\n",
      "Collected 4100 players\n",
      "Collected 4200 players\n",
      "Collected 4300 players\n",
      "Collected 4400 players\n",
      "Collected 4500 players\n",
      "Collected 4600 players\n",
      "Collected 4700 players\n",
      "Collected 4800 players\n",
      "Collected 4900 players\n",
      "Collected 5000 players\n"
     ]
    }
   ],
   "source": [
    "#creating list of stats for each player on the subsequent pages\n",
    "#collecting data on 5000 players\n",
    "more_players = []\n",
    "for i in range(100, 5100, 100):\n",
    "    print(f'Collected {i} players')\n",
    "    key = i\n",
    "    next_url = f'https://www.sports-reference.com/cbb/play-index/psl_finder.cgi?request=1&match=single&year_min=2006&year_max=2019&conf_id=&school_id=&class_is_fr=Y&class_is_so=Y&class_is_jr=Y&class_is_sr=Y&pos_is_g=Y&pos_is_gf=Y&pos_is_fg=Y&pos_is_f=Y&pos_is_fc=Y&pos_is_cf=Y&pos_is_c=Y&games_type=A&qual=&c1stat=&c1comp=&c1val=&c2stat=&c2comp=&c2val=&c3stat=&c3comp=&c3val=&c4stat=&c4comp=&c4val=&order_by=pts&order_by_asc=&offset={key}'\n",
    "    rec = requests.get(next_url)\n",
    "    soup = BeautifulSoup(rec.content, 'lxml')\n",
    "    new_table = soup.find('table', {'class': 'sortable stats_table'})\n",
    "    \n",
    "    for player in new_table.find('tbody').find_all('tr'):\n",
    "        player_stat = [td.text for td in player.find_all('td')]\n",
    "        more_players.append(player_stat)\n",
    "    time.sleep(2)"
   ]
  },
  {
   "cell_type": "code",
   "execution_count": 12,
   "metadata": {},
   "outputs": [],
   "source": [
    "#creating dataframe with new scrape\n",
    "more_players_df = pd.DataFrame(more_players, columns = columns[1:])"
   ]
  },
  {
   "cell_type": "code",
   "execution_count": 13,
   "metadata": {},
   "outputs": [],
   "source": [
    "#combining the dataframes\n",
    "single_season = pd.concat([df, more_players_df], ignore_index = True)"
   ]
  },
  {
   "cell_type": "code",
   "execution_count": 14,
   "metadata": {
    "scrolled": true
   },
   "outputs": [
    {
     "name": "stdout",
     "output_type": "stream",
     "text": [
      "<class 'pandas.core.frame.DataFrame'>\n",
      "RangeIndex: 5508 entries, 0 to 5507\n",
      "Data columns (total 25 columns):\n",
      "Player    5100 non-null object\n",
      "Class     5100 non-null object\n",
      "Season    5100 non-null object\n",
      "Pos       5100 non-null object\n",
      "School    5100 non-null object\n",
      "Conf      5100 non-null object\n",
      "G         5100 non-null object\n",
      "MP        5100 non-null object\n",
      "FG        5100 non-null object\n",
      "FGA       5100 non-null object\n",
      "2P        5100 non-null object\n",
      "2PA       5100 non-null object\n",
      "3P        5100 non-null object\n",
      "3PA       5100 non-null object\n",
      "FT        5100 non-null object\n",
      "FTA       5100 non-null object\n",
      "ORB       5100 non-null object\n",
      "DRB       5100 non-null object\n",
      "TRB       5100 non-null object\n",
      "AST       5100 non-null object\n",
      "STL       5100 non-null object\n",
      "BLK       5100 non-null object\n",
      "TOV       5100 non-null object\n",
      "PF        5100 non-null object\n",
      "PTS       5100 non-null object\n",
      "dtypes: object(25)\n",
      "memory usage: 1.1+ MB\n"
     ]
    }
   ],
   "source": [
    "single_season.info()"
   ]
  },
  {
   "cell_type": "code",
   "execution_count": 15,
   "metadata": {},
   "outputs": [
    {
     "data": {
      "text/plain": [
       "Player    408\n",
       "Class     408\n",
       "Season    408\n",
       "Pos       408\n",
       "School    408\n",
       "Conf      408\n",
       "G         408\n",
       "MP        408\n",
       "FG        408\n",
       "FGA       408\n",
       "2P        408\n",
       "2PA       408\n",
       "3P        408\n",
       "3PA       408\n",
       "FT        408\n",
       "FTA       408\n",
       "ORB       408\n",
       "DRB       408\n",
       "TRB       408\n",
       "AST       408\n",
       "STL       408\n",
       "BLK       408\n",
       "TOV       408\n",
       "PF        408\n",
       "PTS       408\n",
       "dtype: int64"
      ]
     },
     "execution_count": 15,
     "metadata": {},
     "output_type": "execute_result"
    }
   ],
   "source": [
    "#null values\n",
    "single_season.isnull().sum()"
   ]
  },
  {
   "cell_type": "code",
   "execution_count": 16,
   "metadata": {},
   "outputs": [],
   "source": [
    "#dropping null values\n",
    "single_season.dropna(inplace = True)"
   ]
  },
  {
   "cell_type": "code",
   "execution_count": 17,
   "metadata": {
    "scrolled": true
   },
   "outputs": [
    {
     "data": {
      "text/plain": [
       "(5100, 25)"
      ]
     },
     "execution_count": 17,
     "metadata": {},
     "output_type": "execute_result"
    }
   ],
   "source": [
    "single_season.shape"
   ]
  },
  {
   "cell_type": "code",
   "execution_count": 18,
   "metadata": {},
   "outputs": [
    {
     "data": {
      "text/plain": [
       "0"
      ]
     },
     "execution_count": 18,
     "metadata": {},
     "output_type": "execute_result"
    }
   ],
   "source": [
    "single_season.isnull().sum().sum()"
   ]
  },
  {
   "cell_type": "code",
   "execution_count": 19,
   "metadata": {},
   "outputs": [],
   "source": [
    "single_season.to_csv('../Data_Files/single_season.csv')"
   ]
  },
  {
   "cell_type": "markdown",
   "metadata": {},
   "source": [
    "### Total Seasons"
   ]
  },
  {
   "cell_type": "code",
   "execution_count": 20,
   "metadata": {},
   "outputs": [],
   "source": [
    "# creating new df for cumulative data\n",
    "url = 'https://www.sports-reference.com/cbb/play-index/psl_finder.cgi?request=1&match=combined&year_min=2006&year_max=2019&class_is_fr=Y&class_is_so=Y&class_is_jr=Y&class_is_sr=Y&pos_is_g=Y&pos_is_gf=Y&pos_is_f=Y&pos_is_fg=Y&pos_is_fc=Y&pos_is_c=Y&pos_is_cf=Y&games_type=A&order_by=pts'\n",
    "rec = requests.get(url)\n"
   ]
  },
  {
   "cell_type": "code",
   "execution_count": 21,
   "metadata": {},
   "outputs": [],
   "source": [
    "soup = BeautifulSoup(rec.content, 'lxml')"
   ]
  },
  {
   "cell_type": "code",
   "execution_count": 22,
   "metadata": {},
   "outputs": [],
   "source": [
    "#table with all the data\n",
    "table = soup.find('table', {'class': 'sortable stats_table'})"
   ]
  },
  {
   "cell_type": "code",
   "execution_count": 23,
   "metadata": {},
   "outputs": [],
   "source": [
    "#creating list of columns headers for the data frame\n",
    "total_columns = [th.text for th in table.find_all('tr')[1].find_all('th')]"
   ]
  },
  {
   "cell_type": "code",
   "execution_count": 24,
   "metadata": {},
   "outputs": [],
   "source": [
    "#creating list of stats for each player\n",
    "all_players = []\n",
    "for player in table.find('tbody').find_all('tr'):\n",
    "    player_stat = [td.text for td in player.find_all('td')]\n",
    "    all_players.append(player_stat)"
   ]
  },
  {
   "cell_type": "code",
   "execution_count": 25,
   "metadata": {},
   "outputs": [
    {
     "name": "stdout",
     "output_type": "stream",
     "text": [
      "Collected 100 players\n",
      "Collected 200 players\n",
      "Collected 300 players\n",
      "Collected 400 players\n",
      "Collected 500 players\n",
      "Collected 600 players\n",
      "Collected 700 players\n",
      "Collected 800 players\n",
      "Collected 900 players\n",
      "Collected 1000 players\n",
      "Collected 1100 players\n",
      "Collected 1200 players\n",
      "Collected 1300 players\n",
      "Collected 1400 players\n",
      "Collected 1500 players\n",
      "Collected 1600 players\n",
      "Collected 1700 players\n",
      "Collected 1800 players\n",
      "Collected 1900 players\n",
      "Collected 2000 players\n",
      "Collected 2100 players\n",
      "Collected 2200 players\n",
      "Collected 2300 players\n",
      "Collected 2400 players\n",
      "Collected 2500 players\n",
      "Collected 2600 players\n",
      "Collected 2700 players\n",
      "Collected 2800 players\n",
      "Collected 2900 players\n",
      "Collected 3000 players\n",
      "Collected 3100 players\n",
      "Collected 3200 players\n",
      "Collected 3300 players\n",
      "Collected 3400 players\n",
      "Collected 3500 players\n",
      "Collected 3600 players\n",
      "Collected 3700 players\n",
      "Collected 3800 players\n",
      "Collected 3900 players\n",
      "Collected 4000 players\n",
      "Collected 4100 players\n",
      "Collected 4200 players\n",
      "Collected 4300 players\n",
      "Collected 4400 players\n",
      "Collected 4500 players\n",
      "Collected 4600 players\n",
      "Collected 4700 players\n",
      "Collected 4800 players\n",
      "Collected 4900 players\n",
      "Collected 5000 players\n"
     ]
    }
   ],
   "source": [
    "#creating list of stats for each player on the subsequent pages\n",
    "more_players = []\n",
    "for i in range(100, 5100, 100):\n",
    "    print(f'Collected {i} players')\n",
    "    key = i\n",
    "    next_url = f'https://www.sports-reference.com/cbb/play-index/psl_finder.cgi?request=1&match=combined&year_min=2006&year_max=2019&conf_id=&school_id=&class_is_fr=Y&class_is_so=Y&class_is_jr=Y&class_is_sr=Y&pos_is_g=Y&pos_is_gf=Y&pos_is_fg=Y&pos_is_f=Y&pos_is_fc=Y&pos_is_cf=Y&pos_is_c=Y&games_type=A&qual=&c1stat=&c1comp=&c1val=&c2stat=&c2comp=&c2val=&c3stat=&c3comp=&c3val=&c4stat=&c4comp=&c4val=&order_by=pts&order_by_asc=&offset={key}'\n",
    "    rec = requests.get(next_url)\n",
    "    soup = BeautifulSoup(rec.content, 'lxml')\n",
    "    new_table = soup.find('table', {'class': 'sortable stats_table'})\n",
    "    \n",
    "    for player in new_table.find('tbody').find_all('tr'):\n",
    "        player_stat = [td.text for td in player.find_all('td')]\n",
    "        more_players.append(player_stat)\n",
    "    time.sleep(2)"
   ]
  },
  {
   "cell_type": "code",
   "execution_count": 26,
   "metadata": {},
   "outputs": [],
   "source": [
    "#combining the lists\n",
    "all_players.extend(more_players)"
   ]
  },
  {
   "cell_type": "code",
   "execution_count": 27,
   "metadata": {},
   "outputs": [],
   "source": [
    "#creating the comined dataframe\n",
    "total_df = pd.DataFrame(all_players, columns = total_columns[1:])"
   ]
  },
  {
   "cell_type": "code",
   "execution_count": 28,
   "metadata": {},
   "outputs": [],
   "source": [
    "#dropping null values\n",
    "total_df.dropna(inplace = True)"
   ]
  },
  {
   "cell_type": "code",
   "execution_count": 29,
   "metadata": {},
   "outputs": [
    {
     "data": {
      "text/plain": [
       "(5100, 24)"
      ]
     },
     "execution_count": 29,
     "metadata": {},
     "output_type": "execute_result"
    }
   ],
   "source": [
    "total_df.shape"
   ]
  },
  {
   "cell_type": "code",
   "execution_count": 30,
   "metadata": {},
   "outputs": [
    {
     "data": {
      "text/plain": [
       "Player    0\n",
       "From      0\n",
       "To        0\n",
       "School    0\n",
       "Conf      0\n",
       "G         0\n",
       "MP        0\n",
       "FG        0\n",
       "FGA       0\n",
       "2P        0\n",
       "2PA       0\n",
       "3P        0\n",
       "3PA       0\n",
       "FT        0\n",
       "FTA       0\n",
       "ORB       0\n",
       "DRB       0\n",
       "TRB       0\n",
       "AST       0\n",
       "STL       0\n",
       "BLK       0\n",
       "TOV       0\n",
       "PF        0\n",
       "PTS       0\n",
       "dtype: int64"
      ]
     },
     "execution_count": 30,
     "metadata": {},
     "output_type": "execute_result"
    }
   ],
   "source": [
    "total_df.isnull().sum()"
   ]
  },
  {
   "cell_type": "code",
   "execution_count": 31,
   "metadata": {},
   "outputs": [
    {
     "data": {
      "text/html": [
       "<div>\n",
       "<style scoped>\n",
       "    .dataframe tbody tr th:only-of-type {\n",
       "        vertical-align: middle;\n",
       "    }\n",
       "\n",
       "    .dataframe tbody tr th {\n",
       "        vertical-align: top;\n",
       "    }\n",
       "\n",
       "    .dataframe thead th {\n",
       "        text-align: right;\n",
       "    }\n",
       "</style>\n",
       "<table border=\"1\" class=\"dataframe\">\n",
       "  <thead>\n",
       "    <tr style=\"text-align: right;\">\n",
       "      <th></th>\n",
       "      <th>Player</th>\n",
       "      <th>From</th>\n",
       "      <th>To</th>\n",
       "      <th>School</th>\n",
       "      <th>Conf</th>\n",
       "      <th>G</th>\n",
       "      <th>MP</th>\n",
       "      <th>FG</th>\n",
       "      <th>FGA</th>\n",
       "      <th>2P</th>\n",
       "      <th>...</th>\n",
       "      <th>FTA</th>\n",
       "      <th>ORB</th>\n",
       "      <th>DRB</th>\n",
       "      <th>TRB</th>\n",
       "      <th>AST</th>\n",
       "      <th>STL</th>\n",
       "      <th>BLK</th>\n",
       "      <th>TOV</th>\n",
       "      <th>PF</th>\n",
       "      <th>PTS</th>\n",
       "    </tr>\n",
       "  </thead>\n",
       "  <tbody>\n",
       "    <tr>\n",
       "      <th>0</th>\n",
       "      <td>Chris Clemons</td>\n",
       "      <td>2016</td>\n",
       "      <td>2019</td>\n",
       "      <td>Campbell</td>\n",
       "      <td>Big South</td>\n",
       "      <td>130</td>\n",
       "      <td>4433</td>\n",
       "      <td>1024</td>\n",
       "      <td>2307</td>\n",
       "      <td>580</td>\n",
       "      <td>...</td>\n",
       "      <td>860</td>\n",
       "      <td>63</td>\n",
       "      <td>524</td>\n",
       "      <td>587</td>\n",
       "      <td>335</td>\n",
       "      <td>213</td>\n",
       "      <td>47</td>\n",
       "      <td>324</td>\n",
       "      <td>265</td>\n",
       "      <td>3225</td>\n",
       "    </tr>\n",
       "    <tr>\n",
       "      <th>1</th>\n",
       "      <td>Doug McDermott</td>\n",
       "      <td>2011</td>\n",
       "      <td>2014</td>\n",
       "      <td>Creighton</td>\n",
       "      <td>Total</td>\n",
       "      <td>145</td>\n",
       "      <td>4569</td>\n",
       "      <td>1141</td>\n",
       "      <td>2075</td>\n",
       "      <td>867</td>\n",
       "      <td>...</td>\n",
       "      <td>715</td>\n",
       "      <td>281</td>\n",
       "      <td>807</td>\n",
       "      <td>1088</td>\n",
       "      <td>194</td>\n",
       "      <td>34</td>\n",
       "      <td>14</td>\n",
       "      <td>321</td>\n",
       "      <td>265</td>\n",
       "      <td>3150</td>\n",
       "    </tr>\n",
       "    <tr>\n",
       "      <th>2</th>\n",
       "      <td>Mike Daum</td>\n",
       "      <td>2016</td>\n",
       "      <td>2019</td>\n",
       "      <td>South Dakota State</td>\n",
       "      <td>Summit</td>\n",
       "      <td>137</td>\n",
       "      <td>4038</td>\n",
       "      <td>1005</td>\n",
       "      <td>1994</td>\n",
       "      <td>734</td>\n",
       "      <td>...</td>\n",
       "      <td>927</td>\n",
       "      <td>289</td>\n",
       "      <td>947</td>\n",
       "      <td>1236</td>\n",
       "      <td>179</td>\n",
       "      <td>78</td>\n",
       "      <td>84</td>\n",
       "      <td>299</td>\n",
       "      <td>337</td>\n",
       "      <td>3067</td>\n",
       "    </tr>\n",
       "    <tr>\n",
       "      <th>3</th>\n",
       "      <td>Tyler Hansbrough</td>\n",
       "      <td>2006</td>\n",
       "      <td>2009</td>\n",
       "      <td>North Carolina</td>\n",
       "      <td>ACC</td>\n",
       "      <td>142</td>\n",
       "      <td>4394</td>\n",
       "      <td>939</td>\n",
       "      <td>1752</td>\n",
       "      <td>927</td>\n",
       "      <td>...</td>\n",
       "      <td>1241</td>\n",
       "      <td>482</td>\n",
       "      <td>737</td>\n",
       "      <td>1219</td>\n",
       "      <td>154</td>\n",
       "      <td>180</td>\n",
       "      <td>66</td>\n",
       "      <td>297</td>\n",
       "      <td>348</td>\n",
       "      <td>2872</td>\n",
       "    </tr>\n",
       "    <tr>\n",
       "      <th>4</th>\n",
       "      <td>Tyler Haws</td>\n",
       "      <td>2010</td>\n",
       "      <td>2015</td>\n",
       "      <td>Brigham Young</td>\n",
       "      <td>Total</td>\n",
       "      <td>139</td>\n",
       "      <td>4427</td>\n",
       "      <td>917</td>\n",
       "      <td>1916</td>\n",
       "      <td>755</td>\n",
       "      <td>...</td>\n",
       "      <td>820</td>\n",
       "      <td>177</td>\n",
       "      <td>416</td>\n",
       "      <td>593</td>\n",
       "      <td>257</td>\n",
       "      <td>138</td>\n",
       "      <td>28</td>\n",
       "      <td>244</td>\n",
       "      <td>230</td>\n",
       "      <td>2720</td>\n",
       "    </tr>\n",
       "  </tbody>\n",
       "</table>\n",
       "<p>5 rows × 24 columns</p>\n",
       "</div>"
      ],
      "text/plain": [
       "             Player  From    To              School       Conf    G    MP  \\\n",
       "0     Chris Clemons  2016  2019            Campbell  Big South  130  4433   \n",
       "1    Doug McDermott  2011  2014           Creighton      Total  145  4569   \n",
       "2         Mike Daum  2016  2019  South Dakota State     Summit  137  4038   \n",
       "3  Tyler Hansbrough  2006  2009      North Carolina        ACC  142  4394   \n",
       "4        Tyler Haws  2010  2015       Brigham Young      Total  139  4427   \n",
       "\n",
       "     FG   FGA   2P  ...   FTA  ORB  DRB   TRB  AST  STL BLK  TOV   PF   PTS  \n",
       "0  1024  2307  580  ...   860   63  524   587  335  213  47  324  265  3225  \n",
       "1  1141  2075  867  ...   715  281  807  1088  194   34  14  321  265  3150  \n",
       "2  1005  1994  734  ...   927  289  947  1236  179   78  84  299  337  3067  \n",
       "3   939  1752  927  ...  1241  482  737  1219  154  180  66  297  348  2872  \n",
       "4   917  1916  755  ...   820  177  416   593  257  138  28  244  230  2720  \n",
       "\n",
       "[5 rows x 24 columns]"
      ]
     },
     "execution_count": 31,
     "metadata": {},
     "output_type": "execute_result"
    }
   ],
   "source": [
    "total_df.head()"
   ]
  },
  {
   "cell_type": "code",
   "execution_count": 32,
   "metadata": {},
   "outputs": [
    {
     "data": {
      "text/plain": [
       "(5100, 24)"
      ]
     },
     "execution_count": 32,
     "metadata": {},
     "output_type": "execute_result"
    }
   ],
   "source": [
    "total_df.shape"
   ]
  },
  {
   "cell_type": "code",
   "execution_count": 33,
   "metadata": {},
   "outputs": [],
   "source": [
    "total_df.to_csv('../Data_Files/total_values.csv')"
   ]
  }
 ],
 "metadata": {
  "kernelspec": {
   "display_name": "Python [conda env:dsi] *",
   "language": "python",
   "name": "conda-env-dsi-py"
  },
  "language_info": {
   "codemirror_mode": {
    "name": "ipython",
    "version": 3
   },
   "file_extension": ".py",
   "mimetype": "text/x-python",
   "name": "python",
   "nbconvert_exporter": "python",
   "pygments_lexer": "ipython3",
   "version": "3.7.3"
  }
 },
 "nbformat": 4,
 "nbformat_minor": 2
}
