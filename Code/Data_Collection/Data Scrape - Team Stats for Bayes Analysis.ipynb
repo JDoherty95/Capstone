{
 "cells": [
  {
   "cell_type": "markdown",
   "metadata": {},
   "source": [
    "## Data Scape - Team Stats for Bayes Analysis"
   ]
  },
  {
   "cell_type": "markdown",
   "metadata": {},
   "source": [
    "This notebook will be used to collect season statistics by team for a Bayes analysis. The information will be used to calculate a prior distribution."
   ]
  },
  {
   "cell_type": "markdown",
   "metadata": {},
   "source": [
    "### Contents\n",
    "\n",
    "- [Imports](#Imports)\n",
    "- [Test Scrape](#Test-Scrape)\n",
    "- [Complete Scrape](#Complete-Scrape)\n",
    "- [Average Free Throw %](#Average-Free-Throw-%)\n",
    "- [Average 2 Point %](#Average-2-Point-%)\n",
    "- [Average 3 Point %](#Average-3-Point-%)"
   ]
  },
  {
   "cell_type": "markdown",
   "metadata": {},
   "source": [
    "### Imports"
   ]
  },
  {
   "cell_type": "code",
   "execution_count": 33,
   "metadata": {},
   "outputs": [],
   "source": [
    "# Import libraries\n",
    "import pandas as pd\n",
    "import numpy as np\n",
    "import requests\n",
    "from bs4 import BeautifulSoup\n",
    "import time"
   ]
  },
  {
   "cell_type": "markdown",
   "metadata": {},
   "source": [
    "### Test Scrape"
   ]
  },
  {
   "cell_type": "code",
   "execution_count": 2,
   "metadata": {},
   "outputs": [],
   "source": [
    "# creating request from the website\n",
    "url = 'https://www.sports-reference.com/cbb/seasons/2019-school-stats.html'\n",
    "rec = requests.get(url)\n"
   ]
  },
  {
   "cell_type": "code",
   "execution_count": 3,
   "metadata": {},
   "outputs": [
    {
     "data": {
      "text/plain": [
       "200"
      ]
     },
     "execution_count": 3,
     "metadata": {},
     "output_type": "execute_result"
    }
   ],
   "source": [
    "#looking at status code\n",
    "rec.status_code"
   ]
  },
  {
   "cell_type": "code",
   "execution_count": 4,
   "metadata": {},
   "outputs": [],
   "source": [
    "soup = BeautifulSoup(rec.content, 'lxml')"
   ]
  },
  {
   "cell_type": "code",
   "execution_count": 8,
   "metadata": {},
   "outputs": [],
   "source": [
    "#table contains data we're looking for\n",
    "table = soup.find('table', {'class': 'sortable stats_table'})"
   ]
  },
  {
   "cell_type": "code",
   "execution_count": 14,
   "metadata": {},
   "outputs": [],
   "source": [
    "#creating list of columns headers for the data frame\n",
    "columns = [th.text for th in table.find_all('tr')[1].find_all('th')]"
   ]
  },
  {
   "cell_type": "code",
   "execution_count": 18,
   "metadata": {},
   "outputs": [
    {
     "data": {
      "text/plain": [
       "['Abilene Christian\\xa0NCAA',\n",
       " '34',\n",
       " '27',\n",
       " '7',\n",
       " '.794',\n",
       " '-1.91',\n",
       " '-7.34',\n",
       " '14',\n",
       " '4',\n",
       " '13',\n",
       " '2',\n",
       " '10',\n",
       " '4',\n",
       " '2502',\n",
       " '2161',\n",
       " '',\n",
       " '1370',\n",
       " '897',\n",
       " '1911',\n",
       " '.469',\n",
       " '251',\n",
       " '660',\n",
       " '.380',\n",
       " '457',\n",
       " '642',\n",
       " '.712',\n",
       " '325',\n",
       " '1110',\n",
       " '525',\n",
       " '297',\n",
       " '93',\n",
       " '407',\n",
       " '635']"
      ]
     },
     "execution_count": 18,
     "metadata": {},
     "output_type": "execute_result"
    }
   ],
   "source": [
    "#example of scrape for one row in the table\n",
    "[td.text for td in table.find('tbody').find_all('tr')[0].find_all('td')]"
   ]
  },
  {
   "cell_type": "markdown",
   "metadata": {},
   "source": [
    "### Complete Scrape"
   ]
  },
  {
   "cell_type": "code",
   "execution_count": 19,
   "metadata": {},
   "outputs": [
    {
     "name": "stdout",
     "output_type": "stream",
     "text": [
      "Collected 2008 stats\n",
      "Collected 2009 stats\n",
      "Collected 2010 stats\n",
      "Collected 2011 stats\n",
      "Collected 2012 stats\n",
      "Collected 2013 stats\n",
      "Collected 2014 stats\n",
      "Collected 2015 stats\n",
      "Collected 2016 stats\n",
      "Collected 2017 stats\n",
      "Collected 2018 stats\n",
      "Collected 2019 stats\n"
     ]
    }
   ],
   "source": [
    "#creating list of stats for each college team in Division I since 2008\n",
    "teams = []\n",
    "#loop through college teams stats since 2008\n",
    "for i in range(2008, 2020):\n",
    "    print(f'Collected {i} stats')\n",
    "    key = i\n",
    "    next_url = f'https://www.sports-reference.com/cbb/seasons/{i}-school-stats.html'\n",
    "    rec = requests.get(next_url)\n",
    "    soup = BeautifulSoup(rec.content, 'lxml')\n",
    "    new_table = soup.find('table', {'class': 'sortable stats_table'})\n",
    "    \n",
    "    #collecting all rows for each year\n",
    "    for team in new_table.find('tbody').find_all('tr'):\n",
    "        team_stat = [td.text for td in team.find_all('td')]\n",
    "        teams.append(team_stat)\n",
    "    time.sleep(2)"
   ]
  },
  {
   "cell_type": "code",
   "execution_count": 21,
   "metadata": {},
   "outputs": [],
   "source": [
    "#creating dataframe\n",
    "df = pd.DataFrame(teams, columns = columns[1:])"
   ]
  },
  {
   "cell_type": "code",
   "execution_count": 22,
   "metadata": {},
   "outputs": [
    {
     "data": {
      "text/html": [
       "<div>\n",
       "<style scoped>\n",
       "    .dataframe tbody tr th:only-of-type {\n",
       "        vertical-align: middle;\n",
       "    }\n",
       "\n",
       "    .dataframe tbody tr th {\n",
       "        vertical-align: top;\n",
       "    }\n",
       "\n",
       "    .dataframe thead th {\n",
       "        text-align: right;\n",
       "    }\n",
       "</style>\n",
       "<table border=\"1\" class=\"dataframe\">\n",
       "  <thead>\n",
       "    <tr style=\"text-align: right;\">\n",
       "      <th></th>\n",
       "      <th>School</th>\n",
       "      <th>G</th>\n",
       "      <th>W</th>\n",
       "      <th>L</th>\n",
       "      <th>W-L%</th>\n",
       "      <th>SRS</th>\n",
       "      <th>SOS</th>\n",
       "      <th>W</th>\n",
       "      <th>L</th>\n",
       "      <th>W</th>\n",
       "      <th>...</th>\n",
       "      <th>FT</th>\n",
       "      <th>FTA</th>\n",
       "      <th>FT%</th>\n",
       "      <th>ORB</th>\n",
       "      <th>TRB</th>\n",
       "      <th>AST</th>\n",
       "      <th>STL</th>\n",
       "      <th>BLK</th>\n",
       "      <th>TOV</th>\n",
       "      <th>PF</th>\n",
       "    </tr>\n",
       "  </thead>\n",
       "  <tbody>\n",
       "    <tr>\n",
       "      <th>0</th>\n",
       "      <td>Air Force</td>\n",
       "      <td>30</td>\n",
       "      <td>16</td>\n",
       "      <td>14</td>\n",
       "      <td>.533</td>\n",
       "      <td>0.44</td>\n",
       "      <td>0.19</td>\n",
       "      <td>8</td>\n",
       "      <td>8</td>\n",
       "      <td>12</td>\n",
       "      <td>...</td>\n",
       "      <td>406</td>\n",
       "      <td>583</td>\n",
       "      <td>.696</td>\n",
       "      <td>157</td>\n",
       "      <td>796</td>\n",
       "      <td>365</td>\n",
       "      <td>193</td>\n",
       "      <td>54</td>\n",
       "      <td>380</td>\n",
       "      <td>510</td>\n",
       "    </tr>\n",
       "    <tr>\n",
       "      <th>1</th>\n",
       "      <td>Akron</td>\n",
       "      <td>35</td>\n",
       "      <td>24</td>\n",
       "      <td>11</td>\n",
       "      <td>.686</td>\n",
       "      <td>6.24</td>\n",
       "      <td>0.33</td>\n",
       "      <td>11</td>\n",
       "      <td>5</td>\n",
       "      <td>13</td>\n",
       "      <td>...</td>\n",
       "      <td>521</td>\n",
       "      <td>741</td>\n",
       "      <td>.703</td>\n",
       "      <td>391</td>\n",
       "      <td>1096</td>\n",
       "      <td>466</td>\n",
       "      <td>251</td>\n",
       "      <td>96</td>\n",
       "      <td>448</td>\n",
       "      <td>681</td>\n",
       "    </tr>\n",
       "    <tr>\n",
       "      <th>2</th>\n",
       "      <td>Alabama A&amp;M</td>\n",
       "      <td>29</td>\n",
       "      <td>14</td>\n",
       "      <td>15</td>\n",
       "      <td>.483</td>\n",
       "      <td>-16.14</td>\n",
       "      <td>-12.97</td>\n",
       "      <td>11</td>\n",
       "      <td>7</td>\n",
       "      <td>9</td>\n",
       "      <td>...</td>\n",
       "      <td>475</td>\n",
       "      <td>694</td>\n",
       "      <td>.684</td>\n",
       "      <td>377</td>\n",
       "      <td>1061</td>\n",
       "      <td>287</td>\n",
       "      <td>214</td>\n",
       "      <td>170</td>\n",
       "      <td>481</td>\n",
       "      <td>550</td>\n",
       "    </tr>\n",
       "    <tr>\n",
       "      <th>3</th>\n",
       "      <td>Alabama-Birmingham</td>\n",
       "      <td>34</td>\n",
       "      <td>23</td>\n",
       "      <td>11</td>\n",
       "      <td>.676</td>\n",
       "      <td>8.35</td>\n",
       "      <td>2.09</td>\n",
       "      <td>12</td>\n",
       "      <td>4</td>\n",
       "      <td>14</td>\n",
       "      <td>...</td>\n",
       "      <td>523</td>\n",
       "      <td>740</td>\n",
       "      <td>.707</td>\n",
       "      <td>370</td>\n",
       "      <td>1252</td>\n",
       "      <td>475</td>\n",
       "      <td>195</td>\n",
       "      <td>115</td>\n",
       "      <td>482</td>\n",
       "      <td>630</td>\n",
       "    </tr>\n",
       "    <tr>\n",
       "      <th>4</th>\n",
       "      <td>Alabama State</td>\n",
       "      <td>31</td>\n",
       "      <td>20</td>\n",
       "      <td>11</td>\n",
       "      <td>.645</td>\n",
       "      <td>-7.73</td>\n",
       "      <td>-12.70</td>\n",
       "      <td>15</td>\n",
       "      <td>3</td>\n",
       "      <td>11</td>\n",
       "      <td>...</td>\n",
       "      <td>380</td>\n",
       "      <td>594</td>\n",
       "      <td>.640</td>\n",
       "      <td>385</td>\n",
       "      <td>1192</td>\n",
       "      <td>457</td>\n",
       "      <td>176</td>\n",
       "      <td>126</td>\n",
       "      <td>412</td>\n",
       "      <td>601</td>\n",
       "    </tr>\n",
       "  </tbody>\n",
       "</table>\n",
       "<p>5 rows × 33 columns</p>\n",
       "</div>"
      ],
      "text/plain": [
       "               School   G   W   L  W-L%     SRS     SOS   W  L   W  ...   FT  \\\n",
       "0           Air Force  30  16  14  .533    0.44    0.19   8  8  12  ...  406   \n",
       "1               Akron  35  24  11  .686    6.24    0.33  11  5  13  ...  521   \n",
       "2         Alabama A&M  29  14  15  .483  -16.14  -12.97  11  7   9  ...  475   \n",
       "3  Alabama-Birmingham  34  23  11  .676    8.35    2.09  12  4  14  ...  523   \n",
       "4       Alabama State  31  20  11  .645   -7.73  -12.70  15  3  11  ...  380   \n",
       "\n",
       "   FTA   FT%  ORB   TRB  AST  STL  BLK  TOV   PF  \n",
       "0  583  .696  157   796  365  193   54  380  510  \n",
       "1  741  .703  391  1096  466  251   96  448  681  \n",
       "2  694  .684  377  1061  287  214  170  481  550  \n",
       "3  740  .707  370  1252  475  195  115  482  630  \n",
       "4  594  .640  385  1192  457  176  126  412  601  \n",
       "\n",
       "[5 rows x 33 columns]"
      ]
     },
     "execution_count": 22,
     "metadata": {},
     "output_type": "execute_result"
    }
   ],
   "source": [
    "df.head()"
   ]
  },
  {
   "cell_type": "code",
   "execution_count": 25,
   "metadata": {},
   "outputs": [
    {
     "data": {
      "text/plain": [
       "(4538, 33)"
      ]
     },
     "execution_count": 25,
     "metadata": {},
     "output_type": "execute_result"
    }
   ],
   "source": [
    "df.shape"
   ]
  },
  {
   "cell_type": "code",
   "execution_count": 27,
   "metadata": {},
   "outputs": [
    {
     "data": {
      "text/plain": [
       "13266"
      ]
     },
     "execution_count": 27,
     "metadata": {},
     "output_type": "execute_result"
    }
   ],
   "source": [
    "df.isnull().sum().sum()"
   ]
  },
  {
   "cell_type": "code",
   "execution_count": 28,
   "metadata": {},
   "outputs": [],
   "source": [
    "#removing nulls\n",
    "df.dropna(inplace = True)"
   ]
  },
  {
   "cell_type": "code",
   "execution_count": 30,
   "metadata": {
    "scrolled": true
   },
   "outputs": [
    {
     "data": {
      "text/plain": [
       "0"
      ]
     },
     "execution_count": 30,
     "metadata": {},
     "output_type": "execute_result"
    }
   ],
   "source": [
    "df.isnull().sum().sum()"
   ]
  },
  {
   "cell_type": "code",
   "execution_count": 37,
   "metadata": {
    "scrolled": true
   },
   "outputs": [
    {
     "name": "stdout",
     "output_type": "stream",
     "text": [
      "<class 'pandas.core.frame.DataFrame'>\n",
      "Int64Index: 4136 entries, 0 to 4537\n",
      "Data columns (total 33 columns):\n",
      "School    4136 non-null object\n",
      "G         4136 non-null object\n",
      "W         4136 non-null object\n",
      "L         4136 non-null object\n",
      "W-L%      4136 non-null object\n",
      "SRS       4136 non-null object\n",
      "SOS       4136 non-null object\n",
      "W         4136 non-null object\n",
      "L         4136 non-null object\n",
      "W         4136 non-null object\n",
      "L         4136 non-null object\n",
      "W         4136 non-null object\n",
      "L         4136 non-null object\n",
      "Tm.       4136 non-null object\n",
      "Opp.      4136 non-null object\n",
      "          4136 non-null object\n",
      "MP        4136 non-null object\n",
      "FG        4136 non-null object\n",
      "FGA       4136 non-null object\n",
      "FG%       4136 non-null object\n",
      "3P        4136 non-null object\n",
      "3PA       4136 non-null object\n",
      "3P%       4136 non-null object\n",
      "FT        4136 non-null object\n",
      "FTA       4136 non-null object\n",
      "FT%       4136 non-null object\n",
      "ORB       4136 non-null object\n",
      "TRB       4136 non-null object\n",
      "AST       4136 non-null object\n",
      "STL       4136 non-null object\n",
      "BLK       4136 non-null object\n",
      "TOV       4136 non-null object\n",
      "PF        4136 non-null object\n",
      "dtypes: object(33)\n",
      "memory usage: 1.1+ MB\n"
     ]
    }
   ],
   "source": [
    "df.info()"
   ]
  },
  {
   "cell_type": "code",
   "execution_count": 38,
   "metadata": {},
   "outputs": [],
   "source": [
    "#only need these 6 columns for my analysis and will turn them into integer data type\n",
    "df = df[['FT', 'FTA', '3P', '3PA', 'FG', 'FGA']].astype(int)"
   ]
  },
  {
   "cell_type": "code",
   "execution_count": 39,
   "metadata": {},
   "outputs": [
    {
     "name": "stdout",
     "output_type": "stream",
     "text": [
      "<class 'pandas.core.frame.DataFrame'>\n",
      "Int64Index: 4136 entries, 0 to 4537\n",
      "Data columns (total 6 columns):\n",
      "FT     4136 non-null int64\n",
      "FTA    4136 non-null int64\n",
      "3P     4136 non-null int64\n",
      "3PA    4136 non-null int64\n",
      "FG     4136 non-null int64\n",
      "FGA    4136 non-null int64\n",
      "dtypes: int64(6)\n",
      "memory usage: 226.2 KB\n"
     ]
    }
   ],
   "source": [
    "df.info()"
   ]
  },
  {
   "cell_type": "markdown",
   "metadata": {},
   "source": [
    "### Average Free Throw %"
   ]
  },
  {
   "cell_type": "code",
   "execution_count": 45,
   "metadata": {
    "scrolled": false
   },
   "outputs": [
    {
     "data": {
      "text/plain": [
       "0.697"
      ]
     },
     "execution_count": 45,
     "metadata": {},
     "output_type": "execute_result"
    }
   ],
   "source": [
    "ft_avg = round(sum(df['FT']) / sum(df['FTA']), 3)\n",
    "ft_avg"
   ]
  },
  {
   "cell_type": "markdown",
   "metadata": {},
   "source": [
    "The average free throw percentage over the last 10 years in college is approximately 70%."
   ]
  },
  {
   "cell_type": "markdown",
   "metadata": {},
   "source": [
    "### Average 2 Point %"
   ]
  },
  {
   "cell_type": "markdown",
   "metadata": {},
   "source": [
    "Making two additional columns for two point field goals. Subtracting three point field goals from total field goals to get the value."
   ]
  },
  {
   "cell_type": "code",
   "execution_count": 49,
   "metadata": {},
   "outputs": [],
   "source": [
    "df['2P'] = df['FG'] - df['3P']"
   ]
  },
  {
   "cell_type": "code",
   "execution_count": 51,
   "metadata": {},
   "outputs": [],
   "source": [
    "df['2PA'] = df['FGA'] - df['3PA']"
   ]
  },
  {
   "cell_type": "code",
   "execution_count": 53,
   "metadata": {},
   "outputs": [
    {
     "data": {
      "text/plain": [
       "0.489"
      ]
     },
     "execution_count": 53,
     "metadata": {},
     "output_type": "execute_result"
    }
   ],
   "source": [
    "two_avg = round(sum(df['2P']) / sum(df['2PA']), 3)\n",
    "two_avg"
   ]
  },
  {
   "cell_type": "markdown",
   "metadata": {},
   "source": [
    "### Average 3 Point %"
   ]
  },
  {
   "cell_type": "markdown",
   "metadata": {},
   "source": [
    "The average two point percentage over the last 10 years in college is approximately 49%."
   ]
  },
  {
   "cell_type": "code",
   "execution_count": 47,
   "metadata": {},
   "outputs": [
    {
     "data": {
      "text/plain": [
       "0.347"
      ]
     },
     "execution_count": 47,
     "metadata": {},
     "output_type": "execute_result"
    }
   ],
   "source": [
    "three_avg = round(sum(df['3P']) / sum(df['3PA']), 3)\n",
    "three_avg"
   ]
  },
  {
   "cell_type": "markdown",
   "metadata": {},
   "source": [
    "The average three point percentage over the last 10 years in college is approximately 35%."
   ]
  }
 ],
 "metadata": {
  "kernelspec": {
   "display_name": "Python [conda env:dsi] *",
   "language": "python",
   "name": "conda-env-dsi-py"
  },
  "language_info": {
   "codemirror_mode": {
    "name": "ipython",
    "version": 3
   },
   "file_extension": ".py",
   "mimetype": "text/x-python",
   "name": "python",
   "nbconvert_exporter": "python",
   "pygments_lexer": "ipython3",
   "version": "3.7.3"
  }
 },
 "nbformat": 4,
 "nbformat_minor": 2
}
