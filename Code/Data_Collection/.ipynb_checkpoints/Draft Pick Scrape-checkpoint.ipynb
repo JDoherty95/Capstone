{
 "cells": [
  {
   "cell_type": "markdown",
   "metadata": {},
   "source": [
    "## Data Scrape - Draft Picks"
   ]
  },
  {
   "cell_type": "markdown",
   "metadata": {},
   "source": [
    "This notebook will collect the results of all NBA drafts since 2008 from basketball-reference.com. This data will be used to filter out the players that weren't drafted in my single_season data set."
   ]
  },
  {
   "cell_type": "markdown",
   "metadata": {},
   "source": [
    "### Contents\n",
    "\n",
    "- [Imports](#Imports)\n",
    "- [Test Scrape](#Test-Scrape)\n",
    "- [Complete Scrape](#Complete-Scrape)"
   ]
  },
  {
   "cell_type": "markdown",
   "metadata": {},
   "source": [
    "### Imports"
   ]
  },
  {
   "cell_type": "code",
   "execution_count": 1,
   "metadata": {},
   "outputs": [],
   "source": [
    "# Import libraries\n",
    "import pandas as pd\n",
    "import requests\n",
    "from bs4 import BeautifulSoup\n",
    "import time"
   ]
  },
  {
   "cell_type": "markdown",
   "metadata": {},
   "source": [
    "### Test Scape"
   ]
  },
  {
   "cell_type": "code",
   "execution_count": 2,
   "metadata": {},
   "outputs": [],
   "source": [
    "#2018 NBA Draft URL\n",
    "url = 'https://www.basketball-reference.com/draft/NBA_2018.html'\n",
    "rec = requests.get(url)"
   ]
  },
  {
   "cell_type": "code",
   "execution_count": 3,
   "metadata": {},
   "outputs": [
    {
     "data": {
      "text/plain": [
       "200"
      ]
     },
     "execution_count": 3,
     "metadata": {},
     "output_type": "execute_result"
    }
   ],
   "source": [
    "rec.status_code"
   ]
  },
  {
   "cell_type": "code",
   "execution_count": 4,
   "metadata": {},
   "outputs": [],
   "source": [
    "soup = BeautifulSoup(rec.content, 'lxml')"
   ]
  },
  {
   "cell_type": "code",
   "execution_count": 5,
   "metadata": {},
   "outputs": [],
   "source": [
    "#setting variable equal to table with all the data\n",
    "table = soup.find('table', {'class': 'sortable stats_table'})"
   ]
  },
  {
   "cell_type": "code",
   "execution_count": 6,
   "metadata": {
    "scrolled": true
   },
   "outputs": [],
   "source": [
    "#creating list of columns for dataframe\n",
    "#taken from table\n",
    "columns = [th.text for th in table.find_all('tr')[1].find_all('th')]"
   ]
  },
  {
   "cell_type": "code",
   "execution_count": 7,
   "metadata": {},
   "outputs": [
    {
     "data": {
      "text/plain": [
       "['1',\n",
       " 'PHO',\n",
       " 'Deandre Ayton',\n",
       " 'University of Arizona',\n",
       " '1',\n",
       " '71',\n",
       " '2183',\n",
       " '1159',\n",
       " '729',\n",
       " '125',\n",
       " '.585',\n",
       " '.000',\n",
       " '.746',\n",
       " '30.7',\n",
       " '16.3',\n",
       " '10.3',\n",
       " '1.8',\n",
       " '5.8',\n",
       " '.128',\n",
       " '0.2',\n",
       " '1.2']"
      ]
     },
     "execution_count": 7,
     "metadata": {},
     "output_type": "execute_result"
    }
   ],
   "source": [
    "#example scrape for one player\n",
    "[td.text for td in table.find('tbody').find_all('tr')[0].find_all('td')]"
   ]
  },
  {
   "cell_type": "markdown",
   "metadata": {},
   "source": [
    "### Complete Scrape"
   ]
  },
  {
   "cell_type": "markdown",
   "metadata": {},
   "source": [
    "Scraping NBA drafts since 2008"
   ]
  },
  {
   "cell_type": "code",
   "execution_count": 8,
   "metadata": {},
   "outputs": [
    {
     "name": "stdout",
     "output_type": "stream",
     "text": [
      "Scraping 2008 draft\n",
      "Scraping 2009 draft\n",
      "Scraping 2010 draft\n",
      "Scraping 2011 draft\n",
      "Scraping 2012 draft\n",
      "Scraping 2013 draft\n",
      "Scraping 2014 draft\n",
      "Scraping 2015 draft\n",
      "Scraping 2016 draft\n",
      "Scraping 2017 draft\n",
      "Scraping 2018 draft\n",
      "Scraping 2019 draft\n"
     ]
    }
   ],
   "source": [
    "# list to hold each player and their stats\n",
    "draft_list = []\n",
    "\n",
    "# loop through draft by year\n",
    "for i in range(2008,2020):\n",
    "    print(f'Scraping {i} draft')\n",
    "    #url for the draft includes the specific year\n",
    "    url = f'https://www.basketball-reference.com/draft/NBA_{i}.html'\n",
    "    rec = requests.get(url)\n",
    "    \n",
    "    #running loop is status code is 200\n",
    "    if rec.status_code == 200:\n",
    "        soup = BeautifulSoup(rec.content, 'lxml')\n",
    "        table = soup.find('table', {'class': 'sortable stats_table'})\n",
    "        \n",
    "        for player in table.find('tbody').find_all('tr'):\n",
    "            player_info = [td.text for td in player.find_all('td')]\n",
    "            draft_list.append(player_info)\n",
    "        time.sleep(1)\n",
    "    else:\n",
    "        print('website error')\n",
    "        "
   ]
  },
  {
   "cell_type": "code",
   "execution_count": 9,
   "metadata": {},
   "outputs": [],
   "source": [
    "#creating dataframe from the scraped data\n",
    "draft_df = pd.DataFrame(draft_list, columns = columns[1:])"
   ]
  },
  {
   "cell_type": "code",
   "execution_count": 10,
   "metadata": {},
   "outputs": [
    {
     "data": {
      "text/html": [
       "<div>\n",
       "<style scoped>\n",
       "    .dataframe tbody tr th:only-of-type {\n",
       "        vertical-align: middle;\n",
       "    }\n",
       "\n",
       "    .dataframe tbody tr th {\n",
       "        vertical-align: top;\n",
       "    }\n",
       "\n",
       "    .dataframe thead th {\n",
       "        text-align: right;\n",
       "    }\n",
       "</style>\n",
       "<table border=\"1\" class=\"dataframe\">\n",
       "  <thead>\n",
       "    <tr style=\"text-align: right;\">\n",
       "      <th></th>\n",
       "      <th>Pk</th>\n",
       "      <th>Tm</th>\n",
       "      <th>Player</th>\n",
       "      <th>College</th>\n",
       "      <th>Yrs</th>\n",
       "      <th>G</th>\n",
       "      <th>MP</th>\n",
       "      <th>PTS</th>\n",
       "      <th>TRB</th>\n",
       "      <th>AST</th>\n",
       "      <th>...</th>\n",
       "      <th>3P%</th>\n",
       "      <th>FT%</th>\n",
       "      <th>MP</th>\n",
       "      <th>PTS</th>\n",
       "      <th>TRB</th>\n",
       "      <th>AST</th>\n",
       "      <th>WS</th>\n",
       "      <th>WS/48</th>\n",
       "      <th>BPM</th>\n",
       "      <th>VORP</th>\n",
       "    </tr>\n",
       "  </thead>\n",
       "  <tbody>\n",
       "    <tr>\n",
       "      <th>0</th>\n",
       "      <td>1</td>\n",
       "      <td>CHI</td>\n",
       "      <td>Derrick Rose</td>\n",
       "      <td>University of Memphis</td>\n",
       "      <td>10</td>\n",
       "      <td>546</td>\n",
       "      <td>18104</td>\n",
       "      <td>10281</td>\n",
       "      <td>1910</td>\n",
       "      <td>3056</td>\n",
       "      <td>...</td>\n",
       "      <td>.304</td>\n",
       "      <td>.824</td>\n",
       "      <td>33.2</td>\n",
       "      <td>18.8</td>\n",
       "      <td>3.5</td>\n",
       "      <td>5.6</td>\n",
       "      <td>37.2</td>\n",
       "      <td>.099</td>\n",
       "      <td>0.3</td>\n",
       "      <td>10.5</td>\n",
       "    </tr>\n",
       "    <tr>\n",
       "      <th>1</th>\n",
       "      <td>2</td>\n",
       "      <td>MIA</td>\n",
       "      <td>Michael Beasley</td>\n",
       "      <td>Kansas State University</td>\n",
       "      <td>11</td>\n",
       "      <td>609</td>\n",
       "      <td>13903</td>\n",
       "      <td>7568</td>\n",
       "      <td>2861</td>\n",
       "      <td>788</td>\n",
       "      <td>...</td>\n",
       "      <td>.349</td>\n",
       "      <td>.759</td>\n",
       "      <td>22.8</td>\n",
       "      <td>12.4</td>\n",
       "      <td>4.7</td>\n",
       "      <td>1.3</td>\n",
       "      <td>15.6</td>\n",
       "      <td>.054</td>\n",
       "      <td>-3.2</td>\n",
       "      <td>-4.3</td>\n",
       "    </tr>\n",
       "    <tr>\n",
       "      <th>2</th>\n",
       "      <td>3</td>\n",
       "      <td>MIN</td>\n",
       "      <td>O.J. Mayo</td>\n",
       "      <td>University of Southern California</td>\n",
       "      <td>8</td>\n",
       "      <td>547</td>\n",
       "      <td>16919</td>\n",
       "      <td>7574</td>\n",
       "      <td>1706</td>\n",
       "      <td>1607</td>\n",
       "      <td>...</td>\n",
       "      <td>.373</td>\n",
       "      <td>.820</td>\n",
       "      <td>30.9</td>\n",
       "      <td>13.8</td>\n",
       "      <td>3.1</td>\n",
       "      <td>2.9</td>\n",
       "      <td>21.8</td>\n",
       "      <td>.062</td>\n",
       "      <td>-0.8</td>\n",
       "      <td>5.1</td>\n",
       "    </tr>\n",
       "    <tr>\n",
       "      <th>3</th>\n",
       "      <td>4</td>\n",
       "      <td>SEA</td>\n",
       "      <td>Russell Westbrook</td>\n",
       "      <td>University of California, Los Angeles</td>\n",
       "      <td>11</td>\n",
       "      <td>821</td>\n",
       "      <td>28330</td>\n",
       "      <td>18859</td>\n",
       "      <td>5760</td>\n",
       "      <td>6897</td>\n",
       "      <td>...</td>\n",
       "      <td>.308</td>\n",
       "      <td>.801</td>\n",
       "      <td>34.5</td>\n",
       "      <td>23.0</td>\n",
       "      <td>7.0</td>\n",
       "      <td>8.4</td>\n",
       "      <td>96.9</td>\n",
       "      <td>.164</td>\n",
       "      <td>6.6</td>\n",
       "      <td>61.6</td>\n",
       "    </tr>\n",
       "    <tr>\n",
       "      <th>4</th>\n",
       "      <td>5</td>\n",
       "      <td>MEM</td>\n",
       "      <td>Kevin Love</td>\n",
       "      <td>University of California, Los Angeles</td>\n",
       "      <td>11</td>\n",
       "      <td>657</td>\n",
       "      <td>21023</td>\n",
       "      <td>12006</td>\n",
       "      <td>7397</td>\n",
       "      <td>1519</td>\n",
       "      <td>...</td>\n",
       "      <td>.370</td>\n",
       "      <td>.827</td>\n",
       "      <td>32.0</td>\n",
       "      <td>18.3</td>\n",
       "      <td>11.3</td>\n",
       "      <td>2.3</td>\n",
       "      <td>78.2</td>\n",
       "      <td>.179</td>\n",
       "      <td>2.7</td>\n",
       "      <td>24.9</td>\n",
       "    </tr>\n",
       "  </tbody>\n",
       "</table>\n",
       "<p>5 rows × 21 columns</p>\n",
       "</div>"
      ],
      "text/plain": [
       "  Pk   Tm             Player                                College Yrs    G  \\\n",
       "0  1  CHI       Derrick Rose                  University of Memphis  10  546   \n",
       "1  2  MIA    Michael Beasley                Kansas State University  11  609   \n",
       "2  3  MIN          O.J. Mayo      University of Southern California   8  547   \n",
       "3  4  SEA  Russell Westbrook  University of California, Los Angeles  11  821   \n",
       "4  5  MEM         Kevin Love  University of California, Los Angeles  11  657   \n",
       "\n",
       "      MP    PTS   TRB   AST  ...   3P%   FT%    MP   PTS   TRB  AST    WS  \\\n",
       "0  18104  10281  1910  3056  ...  .304  .824  33.2  18.8   3.5  5.6  37.2   \n",
       "1  13903   7568  2861   788  ...  .349  .759  22.8  12.4   4.7  1.3  15.6   \n",
       "2  16919   7574  1706  1607  ...  .373  .820  30.9  13.8   3.1  2.9  21.8   \n",
       "3  28330  18859  5760  6897  ...  .308  .801  34.5  23.0   7.0  8.4  96.9   \n",
       "4  21023  12006  7397  1519  ...  .370  .827  32.0  18.3  11.3  2.3  78.2   \n",
       "\n",
       "  WS/48   BPM  VORP  \n",
       "0  .099   0.3  10.5  \n",
       "1  .054  -3.2  -4.3  \n",
       "2  .062  -0.8   5.1  \n",
       "3  .164   6.6  61.6  \n",
       "4  .179   2.7  24.9  \n",
       "\n",
       "[5 rows x 21 columns]"
      ]
     },
     "execution_count": 10,
     "metadata": {},
     "output_type": "execute_result"
    }
   ],
   "source": [
    "draft_df.head()"
   ]
  },
  {
   "cell_type": "code",
   "execution_count": 11,
   "metadata": {},
   "outputs": [],
   "source": [
    "#dropping nulls\n",
    "draft_df.dropna(inplace = True)"
   ]
  },
  {
   "cell_type": "code",
   "execution_count": 12,
   "metadata": {},
   "outputs": [
    {
     "data": {
      "text/plain": [
       "0"
      ]
     },
     "execution_count": 12,
     "metadata": {},
     "output_type": "execute_result"
    }
   ],
   "source": [
    "#checking for null values\n",
    "draft_df.isnull().sum().sum()"
   ]
  },
  {
   "cell_type": "code",
   "execution_count": 13,
   "metadata": {},
   "outputs": [
    {
     "data": {
      "text/plain": [
       "(720, 21)"
      ]
     },
     "execution_count": 13,
     "metadata": {},
     "output_type": "execute_result"
    }
   ],
   "source": [
    "draft_df.shape"
   ]
  },
  {
   "cell_type": "code",
   "execution_count": 14,
   "metadata": {},
   "outputs": [],
   "source": [
    "#saving file as csv to access in other notebooks\n",
    "draft_df.to_csv('../Data_Files/draftpicks.csv')"
   ]
  }
 ],
 "metadata": {
  "kernelspec": {
   "display_name": "Python [conda env:dsi] *",
   "language": "python",
   "name": "conda-env-dsi-py"
  },
  "language_info": {
   "codemirror_mode": {
    "name": "ipython",
    "version": 3
   },
   "file_extension": ".py",
   "mimetype": "text/x-python",
   "name": "python",
   "nbconvert_exporter": "python",
   "pygments_lexer": "ipython3",
   "version": "3.7.3"
  }
 },
 "nbformat": 4,
 "nbformat_minor": 2
}
